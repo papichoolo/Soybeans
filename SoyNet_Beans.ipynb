{
  "nbformat": 4,
  "nbformat_minor": 0,
  "metadata": {
    "colab": {
      "provenance": [],
      "gpuType": "T4",
      "mount_file_id": "1uUSt9WWbZ3aBGGwIaPF-kmo_xd_lo8YS",
      "authorship_tag": "ABX9TyP98q9+MAKsT3aRtuPQKpI2",
      "include_colab_link": true
    },
    "kernelspec": {
      "name": "python3",
      "display_name": "Python 3"
    },
    "language_info": {
      "name": "python"
    },
    "accelerator": "GPU"
  },
  "cells": [
    {
      "cell_type": "markdown",
      "metadata": {
        "id": "view-in-github",
        "colab_type": "text"
      },
      "source": [
        "<a href=\"https://colab.research.google.com/github/papichoolo/Soybeans/blob/main/SoyNet_Beans.ipynb\" target=\"_parent\"><img src=\"https://colab.research.google.com/assets/colab-badge.svg\" alt=\"Open In Colab\"/></a>"
      ]
    },
    {
      "cell_type": "markdown",
      "source": [
        "Mounting the dataset from Google Drive and importing libraries"
      ],
      "metadata": {
        "id": "a_DuVmp1MOnq"
      }
    },
    {
      "cell_type": "code",
      "source": [
        "import numpy as np\n",
        "import tensorflow as tf\n",
        "\n",
        "import numpy as np\n",
        "import pandas as pd\n",
        "import matplotlib.pyplot as plt\n",
        "import os\n",
        "\n",
        "dataset_path = os.listdir('/content/drive/MyDrive/Camera Clicks_256_256')\n",
        "\n",
        "print (dataset_path)  #what kinds of classes are in this dataset\n",
        "\n",
        "print(\"Types of classes labels found: \", len(dataset_path))"
      ],
      "metadata": {
        "id": "km7im7Fq5y7A",
        "colab": {
          "base_uri": "https://localhost:8080/"
        },
        "outputId": "76427128-b945-4c5e-efce-771748d90d68"
      },
      "execution_count": 43,
      "outputs": [
        {
          "output_type": "stream",
          "name": "stdout",
          "text": [
            "['Disease_Preprocessing data', 'Healthy_Preprocessing data']\n",
            "Types of classes labels found:  2\n"
          ]
        }
      ]
    },
    {
      "cell_type": "code",
      "source": [
        "class_labels = []\n",
        "\n",
        "for item in dataset_path:\n",
        " # Get all the file names\n",
        " all_classes = os.listdir('/content/drive/MyDrive/Camera Clicks_256_256' + '/' +item)\n",
        " print(all_classes)\n",
        "\n",
        " # Add them to the list\n",
        " for room in all_classes:\n",
        "    class_labels.append((item, str('dataset_path' + '/' +item) + '/' + room))"
      ],
      "metadata": {
        "colab": {
          "base_uri": "https://localhost:8080/"
        },
        "id": "R6E9V-cLh7sA",
        "outputId": "4746e061-fe5c-43cf-8ce9-79434b9b5532"
      },
      "execution_count": 44,
      "outputs": [
        {
          "output_type": "stream",
          "name": "stdout",
          "text": [
            "['Soy (1060).JPG', 'Soy (106).JPG', 'Soy (1061).JPG', 'Soy (1062).JPG', 'Soy (1064).JPG', 'Soy (1063).JPG', 'Soy (1066).JPG', 'Soy (1065).JPG', 'Soy (1068).JPG', 'Soy (1067).JPG', 'Soy (1069).JPG', 'Soy (1070).JPG', 'Soy (1071).JPG', 'Soy (1072).JPG', 'Soy (1074).JPG', 'Soy (1073).JPG', 'Soy (1075).JPG', 'Soy (1076).JPG', 'Soy (1078).JPG', 'Soy (1077).JPG', 'Soy (1080).JPG', 'Soy (1079).JPG', 'Soy (1082).JPG', 'Soy (1081).JPG', 'Soy (1083).JPG', 'Soy (1084).JPG', 'Soy (1085).JPG', 'Soy (1086).JPG', 'Soy (1087).JPG', 'Soy (1088).JPG', 'Soy (1089).JPG', 'Soy (109).JPG', 'Soy (1090).JPG', 'Soy (1092).JPG', 'Soy (1091).JPG', 'Soy (1094).JPG', 'Soy (1093).JPG', 'Soy (1095).JPG', 'Soy (1096).JPG', 'Soy (1097).JPG', 'Soy (1098).JPG', 'Soy (1099).JPG', 'Soy (110).JPG', 'Soy (11).JPG', 'Soy (1101).JPG', 'Soy (1100).JPG', 'Soy (1102).JPG', 'Soy (1104).JPG', 'Soy (1105).JPG', 'Soy (1106).JPG', 'Soy (1107).JPG', 'Soy (1108).JPG', 'Soy (1109).JPG', 'Soy (111).JPG', 'Soy (1110).JPG', 'Soy (1111).JPG', 'Soy (1112).JPG', 'Soy (1113).JPG', 'Soy (1114).JPG', 'Soy (1116).JPG', 'Soy (1117).JPG', 'Soy (1115).JPG', 'Soy (1119).JPG', 'Soy (112).JPG', 'Soy (1118).JPG', 'Soy (1121).JPG', 'Soy (1122).JPG', 'Soy (1120).JPG', 'Soy (1125).JPG', 'Soy (1124).JPG', 'Soy (1123).JPG', 'Soy (1126).JPG', 'Soy (1127).JPG', 'Soy (113).JPG', 'Soy (1130).JPG', 'Soy (1129).JPG', 'Soy (1128).JPG', 'Soy (1131).JPG', 'Soy (1132).JPG', 'Soy (1133).JPG', 'Soy (1134).JPG', 'Soy (1135).JPG', 'Soy (1137).JPG', 'Soy (1136).JPG', 'Soy (1138).JPG', 'Soy (114).JPG', 'Soy (1141).JPG', 'Soy (1142).JPG', 'Soy (1144).JPG', 'Soy (1145).JPG', 'Soy (1146).JPG', 'Soy (1147).JPG', 'Soy (1148).JPG', 'Soy (1149).JPG', 'Soy (115).JPG', 'Soy (1150).JPG', 'Soy (1151).JPG', 'Soy (1152).JPG', 'Soy (1153).JPG', 'Soy (1154).JPG', 'Soy (1155).JPG', 'Soy (1156).JPG', 'Soy (1157).JPG', 'Soy (1158).JPG', 'Soy (1159).JPG', 'Soy (116).JPG', 'Soy (1160).JPG', 'Soy (1161).JPG', 'Soy (1162).JPG', 'Soy (1163).JPG', 'Soy (1164).JPG', 'Soy (1165).JPG', 'Soy (1166).JPG', 'Soy (1167).JPG', 'Soy (117).JPG', 'Soy (1169).JPG', 'Soy (1170).JPG', 'Soy (1171).JPG', 'Soy (1173).JPG', 'Soy (1172).JPG', 'Soy (1175).JPG', 'Soy (1176).JPG', 'Soy (1178).JPG', 'Soy (1179).JPG', 'Soy (118).JPG', 'Soy (1180).JPG', 'Soy (1181).JPG', 'Soy (1182).JPG', 'Soy (1183).JPG', 'Soy (1184).JPG', 'Soy (1185).JPG', 'Soy (1186).JPG', 'Soy (119).JPG', 'Soy (1190).JPG', 'Soy (1192).JPG', 'Soy (1194).JPG', 'Soy (121).JPG', 'Soy (120).JPG', 'Soy (122).JPG', 'Soy (123).JPG', 'Soy (127).JPG', 'Soy (126).JPG', 'Soy (129).JPG', 'Soy (128).JPG', 'Soy (130).JPG', 'Soy (132).JPG', 'Soy (131).JPG', 'Soy (133).JPG', 'Soy (138).JPG', 'Soy (139).JPG', 'Soy (140).JPG', 'Soy (14).JPG', 'Soy (142).JPG', 'Soy (141).JPG', 'Soy (143).JPG', 'Soy (144).JPG', 'Soy (146).JPG', 'Soy (145).JPG', 'Soy (147).JPG', 'Soy (148).JPG', 'Soy (149).JPG', 'Soy (15).JPG', 'Soy (151).JPG', 'Soy (150).JPG', 'Soy (152).JPG', 'Soy (153).JPG', 'Soy (155).JPG', 'Soy (154).JPG', 'Soy (156).JPG', 'Soy (157).JPG', 'Soy (159).JPG', 'Soy (158).JPG', 'Soy (16).JPG', 'Soy (161).JPG', 'Soy (160).JPG', 'Soy (162).JPG', 'Soy (163).JPG', 'Soy (166).JPG', 'Soy (167).JPG', 'Soy (169).JPG', 'Soy (168).JPG', 'Soy (17).JPG', 'Soy (171).JPG', 'Soy (170).JPG', 'Soy (172).JPG', 'Soy (173).JPG', 'Soy (174).JPG', 'Soy (176).JPG', 'Soy (175).JPG', 'Soy (178).JPG', 'Soy (179).JPG', 'Soy (180).JPG', 'Soy (18).JPG', 'Soy (182).JPG', 'Soy (181).JPG', 'Soy (184).JPG', 'Soy (183).JPG', 'Soy (185).JPG', 'Soy (186).JPG', 'Soy (187).JPG', 'Soy (188).JPG', 'Soy (189).JPG', 'Soy (190).JPG', 'Soy (191).JPG', 'Soy (192).JPG', 'Soy (193).JPG', 'Soy (194).JPG', 'Soy (195).JPG', 'Soy (198).JPG', 'Soy (196).JPG', 'Soy (197).JPG', 'Soy (199).JPG', 'Soy (20).JPG', 'Soy (200).JPG', 'Soy (201).JPG', 'Soy (202).JPG', 'Soy (203).JPG', 'Soy (204).JPG', 'Soy (205).JPG', 'Soy (206).JPG', 'Soy (207).JPG', 'Soy (209).JPG', 'Soy (208).JPG', 'Soy (21).JPG', 'Soy (211).JPG', 'Soy (210).JPG', 'Soy (212).JPG', 'Soy (213).JPG', 'Soy (214).JPG', 'Soy (217).JPG', 'Soy (216).JPG', 'Soy (218).JPG', 'Soy (219).JPG', 'Soy (22).JPG', 'Soy (220).JPG', 'Soy (221).JPG', 'Soy (222).JPG', 'Soy (223).JPG', 'Soy (224).JPG', 'Soy (225).JPG', 'Soy (226).JPG', 'Soy (227).JPG', 'Soy (229).JPG', 'Soy (23).JPG', 'Soy (230).JPG', 'Soy (231).JPG', 'Soy (232).JPG', 'Soy (233).JPG', 'Soy (234).JPG', 'Soy (235).JPG', 'Soy (238).JPG', 'Soy (239).JPG', 'Soy (240).JPG', 'Soy (241).JPG', 'Soy (242).JPG', 'Soy (243).JPG', 'Soy (244).JPG', 'Soy (245).JPG', 'Soy (246).JPG', 'Soy (248).JPG', 'Soy (249).JPG', 'Soy (25).JPG', 'Soy (250).JPG', 'Soy (251).JPG', 'Soy (252).JPG', 'Soy (253).JPG', 'Soy (254).JPG', 'Soy (255).JPG', 'Soy (256).JPG', 'Soy (257).JPG', 'Soy (258).JPG', 'Soy (259).JPG', 'Soy (26).JPG', 'Soy (260).JPG', 'Soy (261).JPG', 'Soy (262).JPG', 'Soy (263).JPG', 'Soy (264).JPG', 'Soy (265).JPG', 'Soy (266).JPG', 'Soy (267).JPG', 'Soy (268).JPG', 'Soy (269).JPG', 'Soy (27).JPG', 'Soy (275).JPG', 'Soy (270).JPG', 'Soy (276).JPG', 'Soy (277).JPG', 'Soy (279).JPG', 'Soy (278).JPG', 'Soy (28).JPG', 'Soy (281).JPG', 'Soy (284).JPG', 'Soy (283).JPG', 'Soy (282).JPG', 'Soy (285).JPG', 'Soy (286).JPG', 'Soy (29).JPG', 'Soy (287).JPG', 'Soy (288).JPG', 'Soy (292).JPG', 'Soy (293).JPG', 'Soy (295).JPG', 'Soy (298).JPG', 'Soy (297).JPG', 'Soy (30).JPG', 'Soy (303).JPG', 'Soy (302).JPG', 'Soy (299).JPG', 'Soy (304).JPG', 'Soy (305).JPG', 'Soy (306).JPG', 'Soy (308).JPG', 'Soy (309).JPG', 'Soy (311).JPG', 'Soy (31).JPG', 'Soy (310).JPG', 'Soy (314).JPG', 'Soy (313).JPG', 'Soy (312).JPG', 'Soy (317).JPG', 'Soy (315).JPG', 'Soy (316).JPG', 'Soy (319).JPG', 'Soy (32).JPG', 'Soy (318).JPG', 'Soy (320).JPG', 'Soy (322).JPG', 'Soy (321).JPG', 'Soy (325).JPG', 'Soy (324).JPG', 'Soy (323).JPG', 'Soy (327).JPG', 'Soy (328).JPG', 'Soy (326).JPG', 'Soy (330).JPG', 'Soy (329).JPG', 'Soy (33).JPG', 'Soy (331).JPG', 'Soy (333).JPG', 'Soy (339).JPG', 'Soy (332).JPG', 'Soy (340).JPG', 'Soy (34).JPG', 'Soy (349).JPG', 'Soy (341).JPG', 'Soy (347).JPG', 'Soy (348).JPG', 'Soy (35).JPG', 'Soy (351).JPG', 'Soy (354).JPG', 'Soy (350).JPG', 'Soy (352).JPG', 'Soy (353).JPG', 'Soy (359).JPG', 'Soy (355).JPG', 'Soy (356).JPG', 'Soy (36).JPG', 'Soy (361).JPG', 'Soy (360).JPG', 'Soy (363).JPG', 'Soy (362).JPG', 'Soy (364).JPG', 'Soy (369).JPG', 'Soy (367).JPG', 'Soy (370).JPG', 'Soy (37).JPG', 'Soy (366).JPG', 'Soy (374).JPG', 'Soy (371).JPG', 'Soy (375).JPG', 'Soy (373).JPG', 'Soy (376).JPG', 'Soy (372).JPG', 'Soy (377).JPG', 'Soy (38).JPG', 'Soy (379).JPG', 'Soy (378).JPG', 'Soy (383).JPG', 'Soy (384).JPG', 'Soy (380).JPG', 'Soy (382).JPG', 'Soy (381).JPG', 'Soy (389).JPG', 'Soy (387).JPG', 'Soy (386).JPG', 'Soy (388).JPG', 'Soy (385).JPG', 'Soy (392).JPG', 'Soy (393).JPG', 'Soy (390).JPG', 'Soy (39).JPG', 'Soy (391).JPG', 'Soy (397).JPG', 'Soy (398).JPG', 'Soy (394).JPG', 'Soy (4).JPG', 'Soy (396).JPG', 'Soy (399).JPG', 'Soy (402).JPG', 'Soy (400).JPG', 'Soy (401).JPG', 'Soy (40).JPG', 'Soy (406).JPG', 'Soy (404).JPG', 'Soy (403).JPG', 'Soy (408).JPG', 'Soy (407).JPG', 'Soy (405).JPG', 'Soy (410).JPG', 'Soy (411).JPG', 'Soy (41).JPG', 'Soy (409).JPG', 'Soy (415).JPG', 'Soy (414).JPG', 'Soy (416).JPG', 'Soy (417).JPG', 'Soy (412).JPG', 'Soy (413).JPG', 'Soy (425).JPG', 'Soy (418).JPG', 'Soy (419).JPG', 'Soy (420).JPG', 'Soy (42).JPG', 'Soy (43).JPG', 'Soy (426).JPG', 'Soy (429).JPG', 'Soy (427).JPG', 'Soy (428).JPG', 'Soy (433).JPG', 'Soy (432).JPG', 'Soy (430).JPG', 'Soy (434).JPG', 'Soy (431).JPG', 'Soy (438).JPG', 'Soy (436).JPG', 'Soy (439).JPG', 'Soy (435).JPG', 'Soy (437).JPG', 'Soy (441).JPG', 'Soy (44).JPG', 'Soy (443).JPG', 'Soy (440).JPG', 'Soy (444).JPG', 'Soy (442).JPG', 'Soy (446).JPG', 'Soy (449).JPG', 'Soy (448).JPG', 'Soy (445).JPG', 'Soy (450).JPG', 'Soy (455).JPG', 'Soy (45).JPG', 'Soy (453).JPG', 'Soy (454).JPG', 'Soy (459).JPG', 'Soy (462).JPG', 'Soy (458).JPG', 'Soy (456).JPG', 'Soy (457).JPG', 'Soy (461).JPG', 'Soy (468).JPG', 'Soy (466).JPG', 'Soy (464).JPG', 'Soy (465).JPG', 'Soy (467).JPG', 'Soy (471).JPG', 'Soy (472).JPG', 'Soy (473).JPG', 'Soy (469).JPG', 'Soy (470).JPG', 'Soy (474).JPG', 'Soy (476).JPG', 'Soy (479).JPG', 'Soy (478).JPG', 'Soy (477).JPG', 'Soy (475).JPG', 'Soy (480).JPG', 'Soy (483).JPG', 'Soy (481).JPG', 'Soy (485).JPG', 'Soy (484).JPG', 'Soy (482).JPG', 'Soy (487).JPG', 'Soy (486).JPG', 'Soy (488).JPG', 'Soy (490).JPG', 'Soy (489).JPG', 'Soy (495).JPG', 'Soy (493).JPG', 'Soy (492).JPG', 'Soy (496).JPG', 'Soy (494).JPG', 'Soy (491).JPG', 'Soy (497).JPG', 'Soy (499).JPG', 'Soy (498).JPG', 'Soy (5).JPG', 'Soy (500).JPG', 'Soy (501).JPG', 'Soy (503).JPG', 'Soy (506).JPG', 'Soy (505).JPG', 'Soy (507).JPG', 'Soy (508).JPG', 'Soy (509).JPG', 'Soy (510).JPG', 'Soy (51).JPG', 'Soy (511).JPG', 'Soy (513).JPG', 'Soy (512).JPG', 'Soy (514).JPG', 'Soy (516).JPG', 'Soy (519).JPG', 'Soy (518).JPG', 'Soy (517).JPG', 'Soy (520).JPG', 'Soy (52).JPG', 'Soy (521).JPG', 'Soy (522).JPG', 'Soy (528).JPG', 'Soy (527).JPG', 'Soy (529).JPG', 'Soy (53).JPG', 'Soy (530).JPG', 'Soy (531).JPG', 'Soy (532).JPG', 'Soy (537).JPG', 'Soy (536).JPG', 'Soy (535).JPG', 'Soy (538).JPG', 'Soy (539).JPG', 'Soy (542).JPG', 'Soy (540).JPG', 'Soy (541).JPG', 'Soy (543).JPG', 'Soy (545).JPG', 'Soy (544).JPG', 'Soy (547).JPG', 'Soy (546).JPG', 'Soy (548).JPG', 'Soy (550).JPG', 'Soy (549).JPG', 'Soy (551).JPG', 'Soy (552).JPG', 'Soy (555).JPG', 'Soy (553).JPG', 'Soy (554).JPG', 'Soy (557).JPG', 'Soy (556).JPG', 'Soy (561).JPG', 'Soy (562).JPG', 'Soy (564).JPG', 'Soy (563).JPG', 'Soy (565).JPG', 'Soy (566).JPG', 'Soy (568).JPG', 'Soy (570).JPG', 'Soy (569).JPG', 'Soy (573).JPG', 'Soy (572).JPG', 'Soy (571).JPG', 'Soy (575).JPG', 'Soy (574).JPG', 'Soy (576).JPG', 'Soy (579).JPG', 'Soy (580).JPG', 'Soy (578).JPG', 'Soy (582).JPG', 'Soy (584).JPG', 'Soy (581).JPG', 'Soy (589).JPG', 'Soy (585).JPG', 'Soy (586).JPG', 'Soy (591).JPG', 'Soy (590).JPG', 'Soy (592).JPG', 'Soy (595).JPG', 'Soy (593).JPG', 'Soy (596).JPG', 'Soy (598).JPG', 'Soy (597).JPG', 'Soy (600).JPG', 'Soy (599).JPG', 'Soy (601).JPG', 'Soy (60).JPG', 'Soy (602).JPG', 'Soy (603).JPG', 'Soy (604).JPG', 'Soy (605).JPG', 'Soy (606).JPG', 'Soy (607).JPG', 'Soy (608).JPG', 'Soy (609).JPG', 'Soy (61).JPG', 'Soy (612).JPG', 'Soy (611).JPG', 'Soy (610).JPG', 'Soy (616).JPG', 'Soy (614).JPG', 'Soy (613).JPG', 'Soy (615).JPG', 'Soy (619).JPG', 'Soy (618).JPG', 'Soy (617).JPG', 'Soy (62).JPG', 'Soy (626).JPG', 'Soy (620).JPG', 'Soy (63).JPG', 'Soy (629).JPG', 'Soy (636).JPG', 'Soy (635).JPG', 'Soy (637).JPG', 'Soy (630).JPG', 'Soy (640).JPG', 'Soy (64).JPG', 'Soy (642).JPG', 'Soy (638).JPG', 'Soy (639).JPG', 'Soy (643).JPG', 'Soy (649).JPG', 'Soy (644).JPG', 'Soy (646).JPG', 'Soy (645).JPG', 'Soy (648).JPG', 'Soy (65).JPG', 'Soy (653).JPG', 'Soy (655).JPG', 'Soy (650).JPG', 'Soy (657).JPG', 'Soy (659).JPG', 'Soy (66).JPG', 'Soy (658).JPG', 'Soy (656).JPG', 'Soy (660).JPG', 'Soy (665).JPG', 'Soy (663).JPG', 'Soy (662).JPG', 'Soy (666).JPG', 'Soy (661).JPG', 'Soy (664).JPG', 'Soy (667).JPG', 'Soy (670).JPG', 'Soy (669).JPG', 'Soy (668).JPG', 'Soy (67).JPG', 'Soy (672).JPG', 'Soy (671).JPG', 'Soy (673).JPG', 'Soy (674).JPG', 'Soy (675).JPG', 'Soy (677).JPG', 'Soy (679).JPG', 'Soy (68).JPG', 'Soy (678).JPG', 'Soy (676).JPG', 'Soy (680).JPG', 'Soy (686).JPG', 'Soy (687).JPG', 'Soy (681).JPG', 'Soy (685).JPG', 'Soy (682).JPG', 'Soy (688).JPG', 'Soy (690).JPG', 'Soy (691).JPG', 'Soy (69).JPG', 'Soy (689).JPG', 'Soy (696).JPG', 'Soy (695).JPG', 'Soy (692).JPG', 'Soy (694).JPG', 'Soy (697).JPG', 'Soy (693).JPG', 'Soy (7).JPG', 'Soy (70).JPG', 'Soy (698).JPG', 'Soy (699).JPG', 'Soy (700).JPG', 'Soy (704).JPG', 'Soy (706).JPG', 'Soy (703).JPG', 'Soy (705).JPG', 'Soy (702).JPG', 'Soy (709).JPG', 'Soy (714).JPG', 'Soy (707).JPG', 'Soy (708).JPG', 'Soy (715).JPG', 'Soy (710).JPG', 'Soy (72).JPG', 'Soy (718).JPG', 'Soy (716).JPG', 'Soy (719).JPG', 'Soy (717).JPG', 'Soy (721).JPG', 'Soy (720).JPG', 'Soy (724).JPG', 'Soy (723).JPG', 'Soy (722).JPG', 'Soy (73).JPG', 'Soy (727).JPG', 'Soy (726).JPG', 'Soy (728).JPG', 'Soy (729).JPG', 'Soy (725).JPG', 'Soy (735).JPG', 'Soy (734).JPG', 'Soy (733).JPG', 'Soy (732).JPG', 'Soy (731).JPG', 'Soy (730).JPG', 'Soy (738).JPG', 'Soy (739).JPG', 'Soy (74).JPG', 'Soy (736).JPG', 'Soy (742).JPG', 'Soy (737).JPG', 'Soy (746).JPG', 'Soy (747).JPG', 'Soy (743).JPG', 'Soy (745).JPG', 'Soy (744).JPG', 'Soy (752).JPG', 'Soy (751).JPG', 'Soy (748).JPG', 'Soy (750).JPG', 'Soy (753).JPG', 'Soy (758).JPG', 'Soy (757).JPG', 'Soy (754).JPG', 'Soy (755).JPG', 'Soy (756).JPG', 'Soy (760).JPG', 'Soy (763).JPG', 'Soy (762).JPG', 'Soy (76).JPG', 'Soy (761).JPG', 'Soy (759).JPG', 'Soy (768).JPG', 'Soy (765).JPG', 'Soy (767).JPG', 'Soy (764).JPG', 'Soy (766).JPG', 'Soy (773).JPG', 'Soy (769).JPG', 'Soy (772).JPG', 'Soy (771).JPG', 'Soy (77).JPG', 'Soy (770).JPG', 'Soy (776).JPG', 'Soy (774).JPG', 'Soy (778).JPG', 'Soy (775).JPG', 'Soy (777).JPG', 'Soy (782).JPG', 'Soy (781).JPG', 'Soy (783).JPG', 'Soy (780).JPG', 'Soy (779).JPG', 'Soy (788).JPG', 'Soy (785).JPG', 'Soy (784).JPG', 'Soy (786).JPG', 'Soy (787).JPG', 'Soy (789).JPG', 'Soy (79).JPG', 'Soy (791).JPG', 'Soy (793).JPG', 'Soy (792).JPG', 'Soy (790).JPG', 'Soy (795).JPG', 'Soy (794).JPG', 'Soy (797).JPG', 'Soy (796).JPG', 'Soy (798).JPG', 'Soy (799).JPG', 'Soy (80).JPG', 'Soy (800).JPG', 'Soy (801).JPG', 'Soy (802).JPG', 'Soy (805).JPG', 'Soy (804).JPG', 'Soy (803).JPG', 'Soy (807).JPG', 'Soy (806).JPG', 'Soy (808).JPG', 'Soy (809).JPG', 'Soy (81).JPG', 'Soy (814).JPG', 'Soy (811).JPG', 'Soy (810).JPG', 'Soy (816).JPG', 'Soy (815).JPG', 'Soy (818).JPG', 'Soy (819).JPG', 'Soy (817).JPG', 'Soy (82).JPG', 'Soy (820).JPG', 'Soy (821).JPG', 'Soy (824).JPG', 'Soy (822).JPG', 'Soy (827).JPG', 'Soy (826).JPG', 'Soy (825).JPG', 'Soy (829).JPG', 'Soy (828).JPG', 'Soy (83).JPG', 'Soy (830).JPG', 'Soy (831).JPG', 'Soy (833).JPG', 'Soy (832).JPG', 'Soy (834).JPG', 'Soy (835).JPG', 'Soy (836).JPG', 'Soy (837).JPG', 'Soy (838).JPG', 'Soy (840).JPG', 'Soy (839).JPG', 'Soy (84).JPG', 'Soy (842).JPG', 'Soy (841).JPG', 'Soy (843).JPG', 'Soy (844).JPG', 'Soy (845).JPG', 'Soy (846).JPG', 'Soy (850).JPG', 'Soy (851).JPG', 'Soy (85).JPG', 'Soy (852).JPG', 'Soy (854).JPG', 'Soy (853).JPG', 'Soy (855).JPG', 'Soy (859).JPG', 'Soy (856).JPG', 'Soy (857).JPG', 'Soy (858).JPG', 'Soy (860).JPG', 'Soy (861).JPG', 'Soy (86).JPG', 'Soy (863).JPG', 'Soy (865).JPG', 'Soy (864).JPG', 'Soy (868).JPG', 'Soy (87).JPG', 'Soy (870).JPG', 'Soy (869).JPG', 'Soy (872).JPG', 'Soy (871).JPG', 'Soy (873).JPG', 'Soy (876).JPG', 'Soy (875).JPG', 'Soy (874).JPG', 'Soy (877).JPG', 'Soy (878).JPG', 'Soy (88).JPG', 'Soy (879).JPG', 'Soy (880).JPG', 'Soy (881).JPG', 'Soy (882).JPG', 'Soy (884).JPG', 'Soy (885).JPG', 'Soy (886).JPG', 'Soy (887).JPG', 'Soy (890).JPG', 'Soy (889).JPG', 'Soy (888).JPG', 'Soy (89).JPG', 'Soy (893).JPG', 'Soy (892).JPG', 'Soy (891).JPG', 'Soy (895).JPG', 'Soy (894).JPG', 'Soy (896).JPG', 'Soy (897).JPG', 'Soy (898).JPG', 'Soy (899).JPG', 'Soy (9).JPG', 'Soy (90).JPG', 'Soy (900).JPG', 'Soy (901).JPG', 'Soy (902).JPG', 'Soy (903).JPG', 'Soy (904).JPG', 'Soy (905).JPG', 'Soy (907).JPG', 'Soy (906).JPG', 'Soy (909).JPG', 'Soy (908).JPG', 'Soy (91).JPG', 'Soy (921).JPG', 'Soy (916).JPG', 'Soy (915).JPG', 'Soy (922).JPG', 'Soy (923).JPG', 'Soy (925).JPG', 'Soy (928).JPG', 'Soy (927).JPG', 'Soy (924).JPG', 'Soy (926).JPG', 'Soy (931).JPG', 'Soy (93).JPG', 'Soy (929).JPG', 'Soy (930).JPG', 'Soy (932).JPG', 'Soy (935).JPG', 'Soy (936).JPG', 'Soy (933).JPG', 'Soy (94).JPG', 'Soy (944).JPG', 'Soy (940).JPG', 'Soy (945).JPG', 'Soy (943).JPG', 'Soy (942).JPG', 'Soy (95).JPG', 'Soy (948).JPG', 'Soy (946).JPG', 'Soy (947).JPG', 'Soy (949).JPG', 'Soy (950).JPG', 'Soy (951).JPG', 'Soy (952).JPG', 'Soy (953).JPG', 'Soy (959).JPG', 'Soy (957).JPG', 'Soy (958).JPG', 'Soy (955).JPG', 'Soy (954).JPG', 'Soy (964).JPG', 'Soy (96).JPG', 'Soy (963).JPG', 'Soy (961).JPG', 'Soy (962).JPG', 'Soy (960).JPG', 'Soy (967).JPG', 'Soy (966).JPG', 'Soy (965).JPG', 'Soy (969).JPG', 'Soy (968).JPG', 'Soy (97).JPG', 'Soy (970).JPG', 'Soy (977).JPG', 'Soy (975).JPG', 'Soy (980).JPG', 'Soy (979).JPG', 'Soy (981).JPG', 'Soy (98).JPG', 'Soy (978).JPG', 'Soy (982).JPG', 'Soy (983).JPG', 'Soy (985).JPG', 'Soy (984).JPG', 'Soy (986).JPG', 'Soy (987).JPG', 'Soy (988).JPG', 'Soy (989).JPG', 'Soy (990).JPG', 'Soy (991).JPG', 'Soy (99).JPG', 'Soy (995).JPG', 'Soy (997).JPG', 'Soy (993).JPG', 'Soy (994).JPG', 'Soy (996).JPG', 'Soy (998).JPG', 'Soy (999).JPG', 'Soy (19).JPG', 'Soy (24).JPG', 'Soy (75).JPG', 'Soy (92).JPG', 'Soy (177).JPG', 'Soy (294).JPG', 'Soy (307).JPG', 'Soy (215).JPG', 'Soy (447).JPG', 'Soy (463).JPG', 'Soy (502).JPG', 'Soy (504).JPG', 'Soy (594).JPG', 'Soy (628).JPG', 'Soy (627).JPG', 'Soy (651).JPG', 'Soy (652).JPG', 'Soy (883).JPG', 'Soy (938).JPG', 'Soy (937).JPG', 'Soy (939).JPG', 'Soy (956).JPG', 'Soy (971).JPG', 'Soy (974).JPG', 'Soy (992).JPG', 'Soy (1000).JPG', 'Soy (1017).JPG', 'Soy (1050).JPG', 'Soy (1103).JPG', 'Soy (1174).JPG', 'Soy (1177).JPG', 'Soy (1189).JPG', 'Soy (1188).JPG', 'Soy (1187).JPG', 'Soy (1191).JPG', 'Soy (1193).JPG', 'Soy (1).JPG', 'Soy (100).JPG', 'Soy (10).JPG', 'Soy (1001).JPG', 'Soy (1009).JPG', 'Soy (101).JPG', 'Soy (1011).JPG', 'Soy (1013).JPG', 'Soy (1014).JPG', 'Soy (1015).JPG', 'Soy (1016).JPG', 'Soy (1019).JPG', 'Soy (1018).JPG', 'Soy (1020).JPG', 'Soy (102).JPG', 'Soy (1021).JPG', 'Soy (1023).JPG', 'Soy (1022).JPG', 'Soy (1025).JPG', 'Soy (1024).JPG', 'Soy (1026).JPG', 'Soy (1027).JPG', 'Soy (1028).JPG', 'Soy (1029).JPG', 'Soy (1030).JPG', 'Soy (103).JPG', 'Soy (1032).JPG', 'Soy (1031).JPG', 'Soy (1034).JPG', 'Soy (1033).JPG', 'Soy (1035).JPG', 'Soy (1038).JPG', 'Soy (1036).JPG', 'Soy (1039).JPG', 'Soy (104).JPG', 'Soy (1041).JPG', 'Soy (1040).JPG', 'Soy (1043).JPG', 'Soy (1042).JPG', 'Soy (1045).JPG', 'Soy (1044).JPG', 'Soy (1047).JPG', 'Soy (1046).JPG', 'Soy (1049).JPG', 'Soy (1048).JPG', 'Soy (105).JPG', 'Soy (1052).JPG', 'Soy (1051).JPG', 'Soy (1054).JPG', 'Soy (1053).JPG', 'Soy (1055).JPG', 'Soy (1056).JPG', 'Soy (1057).JPG', 'Soy (1059).JPG', 'Soy (1058).JPG']\n",
            "['Soy (1002).JPG', 'Soy (1006).JPG', 'Soy (1004).JPG', 'Soy (1007).JPG', 'Soy (107).JPG', 'Soy (1010).JPG', 'Soy (1012).JPG', 'Soy (1008).JPG', 'Soy (1037).JPG', 'Soy (1140).JPG', 'Soy (108).JPG', 'Soy (1168).JPG', 'Soy (124).JPG', 'Soy (12).JPG', 'Soy (125).JPG', 'Soy (13).JPG', 'Soy (137).JPG', 'Soy (134).JPG', 'Soy (165).JPG', 'Soy (136).JPG', 'Soy (135).JPG', 'Soy (164).JPG', 'Soy (2).JPG', 'Soy (228).JPG', 'Soy (236).JPG', 'Soy (237).JPG', 'Soy (247).JPG', 'Soy (273).JPG', 'Soy (272).JPG', 'Soy (271).JPG', 'Soy (274).JPG', 'Soy (289).JPG', 'Soy (280).JPG', 'Soy (290).JPG', 'Soy (3).JPG', 'Soy (296).JPG', 'Soy (291).JPG', 'Soy (300).JPG', 'Soy (301).JPG', 'Soy (334).JPG', 'Soy (335).JPG', 'Soy (337).JPG', 'Soy (336).JPG', 'Soy (343).JPG', 'Soy (338).JPG', 'Soy (342).JPG', 'Soy (365).JPG', 'Soy (357).JPG', 'Soy (344).JPG', 'Soy (345).JPG', 'Soy (346).JPG', 'Soy (358).JPG', 'Soy (422).JPG', 'Soy (421).JPG', 'Soy (368).JPG', 'Soy (423).JPG', 'Soy (395).JPG', 'Soy (451).JPG', 'Soy (46).JPG', 'Soy (452).JPG', 'Soy (424).JPG', 'Soy (49).JPG', 'Soy (460).JPG', 'Soy (48).JPG', 'Soy (50).JPG', 'Soy (515).JPG', 'Soy (525).JPG', 'Soy (523).JPG', 'Soy (524).JPG', 'Soy (533).JPG', 'Soy (526).JPG', 'Soy (55).JPG', 'Soy (534).JPG', 'Soy (54).JPG', 'Soy (559).JPG', 'Soy (560).JPG', 'Soy (558).JPG', 'Soy (57).JPG', 'Soy (567).JPG', 'Soy (58).JPG', 'Soy (583).JPG', 'Soy (577).JPG', 'Soy (587).JPG', 'Soy (588).JPG', 'Soy (6).JPG', 'Soy (59).JPG', 'Soy (623).JPG', 'Soy (622).JPG', 'Soy (621).JPG', 'Soy (624).JPG', 'Soy (631).JPG', 'Soy (625).JPG', 'Soy (632).JPG', 'Soy (633).JPG', 'Soy (641).JPG', 'Soy (684).JPG', 'Soy (654).JPG', 'Soy (683).JPG', 'Soy (647).JPG', 'Soy (634).JPG', 'Soy (71).JPG', 'Soy (740).JPG', 'Soy (711).JPG', 'Soy (713).JPG', 'Soy (701).JPG', 'Soy (741).JPG', 'Soy (749).JPG', 'Soy (78).JPG', 'Soy (8).JPG', 'Soy (812).JPG', 'Soy (813).JPG', 'Soy (848).JPG', 'Soy (823).JPG', 'Soy (847).JPG', 'Soy (866).JPG', 'Soy (862).JPG', 'Soy (849).JPG', 'Soy (867).JPG', 'Soy (910).JPG', 'Soy (913).JPG', 'Soy (912).JPG', 'Soy (914).JPG', 'Soy (919).JPG', 'Soy (920).JPG', 'Soy (917).JPG', 'Soy (941).JPG', 'Soy (934).JPG', 'Soy (972).JPG', 'Soy (1139).JPG', 'Soy (1143).JPG', 'Soy (973).JPG', 'Soy (976).JPG', 'Soy (1003).JPG', 'Soy (1005).JPG', 'Soy (918).JPG', 'Soy (712).JPG', 'Soy (911).JPG', 'Soy (56).JPG', 'Soy (47).JPG']\n"
          ]
        }
      ]
    },
    {
      "cell_type": "markdown",
      "source": [
        "Creating a dataframe of Images and labels"
      ],
      "metadata": {
        "id": "fypFHyGpOKHO"
      }
    },
    {
      "cell_type": "code",
      "source": [
        "df = pd.DataFrame(data=class_labels, columns=['Labels', 'image'])\n",
        "print(df.head())\n",
        "print(df.tail())"
      ],
      "metadata": {
        "colab": {
          "base_uri": "https://localhost:8080/"
        },
        "id": "bnAslGfsiLli",
        "outputId": "ebfb1e1a-ed34-48a5-fa53-b87a1ce9d5ce"
      },
      "execution_count": 45,
      "outputs": [
        {
          "output_type": "stream",
          "name": "stdout",
          "text": [
            "                       Labels  \\\n",
            "0  Disease_Preprocessing data   \n",
            "1  Disease_Preprocessing data   \n",
            "2  Disease_Preprocessing data   \n",
            "3  Disease_Preprocessing data   \n",
            "4  Disease_Preprocessing data   \n",
            "\n",
            "                                               image  \n",
            "0  dataset_path/Disease_Preprocessing data/Soy (1...  \n",
            "1  dataset_path/Disease_Preprocessing data/Soy (1...  \n",
            "2  dataset_path/Disease_Preprocessing data/Soy (1...  \n",
            "3  dataset_path/Disease_Preprocessing data/Soy (1...  \n",
            "4  dataset_path/Disease_Preprocessing data/Soy (1...  \n",
            "                          Labels  \\\n",
            "1189  Healthy_Preprocessing data   \n",
            "1190  Healthy_Preprocessing data   \n",
            "1191  Healthy_Preprocessing data   \n",
            "1192  Healthy_Preprocessing data   \n",
            "1193  Healthy_Preprocessing data   \n",
            "\n",
            "                                                  image  \n",
            "1189  dataset_path/Healthy_Preprocessing data/Soy (9...  \n",
            "1190  dataset_path/Healthy_Preprocessing data/Soy (7...  \n",
            "1191  dataset_path/Healthy_Preprocessing data/Soy (9...  \n",
            "1192  dataset_path/Healthy_Preprocessing data/Soy (5...  \n",
            "1193  dataset_path/Healthy_Preprocessing data/Soy (4...  \n"
          ]
        }
      ]
    },
    {
      "cell_type": "code",
      "source": [
        "print(\"Total number of images in the dataset: \", len(df))\n",
        "\n",
        "label_count = df['Labels'].value_counts()\n",
        "print(label_count)"
      ],
      "metadata": {
        "colab": {
          "base_uri": "https://localhost:8080/"
        },
        "id": "HM-Jjj8aiODN",
        "outputId": "04c50548-3628-434c-d1b3-4e1f97732636"
      },
      "execution_count": 46,
      "outputs": [
        {
          "output_type": "stream",
          "name": "stdout",
          "text": [
            "Total number of images in the dataset:  1194\n",
            "Disease_Preprocessing data    1055\n",
            "Healthy_Preprocessing data     139\n",
            "Name: Labels, dtype: int64\n"
          ]
        }
      ]
    },
    {
      "cell_type": "markdown",
      "source": [
        "Reading the Image and Resizing it to 224 x 224"
      ],
      "metadata": {
        "id": "RkMkDJX0OYFn"
      }
    },
    {
      "cell_type": "code",
      "source": [
        "import cv2\n",
        "path = '/content/drive/MyDrive/Camera Clicks_256_256/'\n",
        "dataset_path = os.listdir('/content/drive/MyDrive/Camera Clicks_256_256')\n",
        "\n",
        "im_size = 224\n",
        "\n",
        "images = []\n",
        "labels = []\n",
        "\n",
        "for i in dataset_path:\n",
        "    data_path = path + str(i)\n",
        "    filenames = [i for i in os.listdir(data_path) ]\n",
        "\n",
        "    for f in filenames:\n",
        "        img = cv2.imread(data_path + '/' + f)\n",
        "        img = cv2.resize(img, (im_size, im_size))\n",
        "        images.append(img)\n",
        "        labels.append(i)"
      ],
      "metadata": {
        "id": "sWKVm--BinPB"
      },
      "execution_count": 47,
      "outputs": []
    },
    {
      "cell_type": "code",
      "source": [
        "images = np.array(images)\n",
        "\n",
        "images = images.astype('float32') / 255.0\n",
        "images.shape"
      ],
      "metadata": {
        "colab": {
          "base_uri": "https://localhost:8080/"
        },
        "id": "bMMwBhs_jQwv",
        "outputId": "00280c1b-b947-4ee7-8893-dcb838742da9"
      },
      "execution_count": 48,
      "outputs": [
        {
          "output_type": "execute_result",
          "data": {
            "text/plain": [
              "(1194, 224, 224, 3)"
            ]
          },
          "metadata": {},
          "execution_count": 48
        }
      ]
    },
    {
      "cell_type": "markdown",
      "source": [
        "Encoding labels"
      ],
      "metadata": {
        "id": "EY4MwlkCOn5j"
      }
    },
    {
      "cell_type": "code",
      "source": [
        "from sklearn.preprocessing import LabelEncoder , OneHotEncoder\n",
        "y=df['Labels'].values\n",
        "print(y)\n",
        "\n",
        "y_labelencoder = LabelEncoder ()\n",
        "y = y_labelencoder.fit_transform (y)\n",
        "print (y)"
      ],
      "metadata": {
        "colab": {
          "base_uri": "https://localhost:8080/"
        },
        "id": "VvJPP-nbjc7W",
        "outputId": "99ca2edb-a194-418c-fcae-c5c36b83631a"
      },
      "execution_count": 49,
      "outputs": [
        {
          "output_type": "stream",
          "name": "stdout",
          "text": [
            "['Disease_Preprocessing data' 'Disease_Preprocessing data'\n",
            " 'Disease_Preprocessing data' ... 'Healthy_Preprocessing data'\n",
            " 'Healthy_Preprocessing data' 'Healthy_Preprocessing data']\n",
            "[0 0 0 ... 1 1 1]\n"
          ]
        }
      ]
    },
    {
      "cell_type": "code",
      "source": [
        "y=y.reshape(-1,1)\n",
        "\n",
        "from sklearn.compose import ColumnTransformer\n",
        "ct = ColumnTransformer([('my_ohe', OneHotEncoder(), [0])], remainder='passthrough')\n",
        "Y = ct.fit_transform(y) #.toarray()\n",
        "print(Y[:5])\n",
        "print(Y[35:])"
      ],
      "metadata": {
        "colab": {
          "base_uri": "https://localhost:8080/"
        },
        "id": "NiE2WayjjeJC",
        "outputId": "9d0539a1-84f4-416a-d33d-9a6b9c472efd"
      },
      "execution_count": 50,
      "outputs": [
        {
          "output_type": "stream",
          "name": "stdout",
          "text": [
            "[[1. 0.]\n",
            " [1. 0.]\n",
            " [1. 0.]\n",
            " [1. 0.]\n",
            " [1. 0.]]\n",
            "[[1. 0.]\n",
            " [1. 0.]\n",
            " [1. 0.]\n",
            " ...\n",
            " [0. 1.]\n",
            " [0. 1.]\n",
            " [0. 1.]]\n"
          ]
        }
      ]
    },
    {
      "cell_type": "code",
      "source": [
        "from sklearn.utils import shuffle\n",
        "from sklearn.model_selection import train_test_split\n",
        "\n",
        "\n",
        "images, y = shuffle(images, Y, random_state=1)\n",
        "\n",
        "\n",
        "train_x, test_x, train_y, test_y = train_test_split(images, y, test_size=0.05, random_state=415)\n",
        "\n",
        "#inpect the shape of the training and testing.\n",
        "print(train_x.shape)\n",
        "print(train_y.shape)\n",
        "print(test_x.shape)\n",
        "print(test_y.shape)"
      ],
      "metadata": {
        "colab": {
          "base_uri": "https://localhost:8080/"
        },
        "id": "gYgKOPRyjlPN",
        "outputId": "f9f227f9-eab6-4aa4-b3fc-b71e000c9739"
      },
      "execution_count": 51,
      "outputs": [
        {
          "output_type": "stream",
          "name": "stdout",
          "text": [
            "(1134, 224, 224, 3)\n",
            "(1134, 2)\n",
            "(60, 224, 224, 3)\n",
            "(60, 2)\n"
          ]
        }
      ]
    },
    {
      "cell_type": "markdown",
      "source": [
        "Using EfficientNetB0"
      ],
      "metadata": {
        "id": "5xO2IzOwOu8e"
      }
    },
    {
      "cell_type": "markdown",
      "source": [
        "Using a Learning Rate scheduler to create a custom Learning rate"
      ],
      "metadata": {
        "id": "Kfqynp9omauD"
      }
    },
    {
      "cell_type": "code",
      "source": [
        "from keras.callbacks import LearningRateScheduler\n",
        "def lr_schedule(epoch, lr):\n",
        "    if epoch < 10:\n",
        "        return lr\n",
        "    else:\n",
        "        return lr * 0.9\n"
      ],
      "metadata": {
        "id": "Xr3MtK27mGxp"
      },
      "execution_count": 52,
      "outputs": []
    },
    {
      "cell_type": "markdown",
      "source": [
        "Trying to implement SGD Function"
      ],
      "metadata": {
        "id": "53QMaRATUiiW"
      }
    },
    {
      "cell_type": "code",
      "source": [
        "import keras\n",
        "lr_schedule = keras.optimizers.schedules.ExponentialDecay(\n",
        "    initial_learning_rate=1e-2,\n",
        "    decay_steps=10000,\n",
        "    decay_rate=0.9)\n",
        "optimizer = keras.optimizers.SGD(learning_rate=lr_schedule)\n"
      ],
      "metadata": {
        "id": "ha1oQK0xUlsk"
      },
      "execution_count": 53,
      "outputs": []
    },
    {
      "cell_type": "markdown",
      "source": [
        "WandB Metrics uploaded"
      ],
      "metadata": {
        "id": "7X6k8oDeBjDk"
      }
    },
    {
      "cell_type": "code",
      "source": [
        "!pip install wandb"
      ],
      "metadata": {
        "colab": {
          "base_uri": "https://localhost:8080/"
        },
        "id": "d8QjqCONBwtv",
        "outputId": "303c9f79-f6b1-41d5-add9-9d2331691913"
      },
      "execution_count": 54,
      "outputs": [
        {
          "output_type": "stream",
          "name": "stdout",
          "text": [
            "Requirement already satisfied: wandb in /usr/local/lib/python3.10/dist-packages (0.16.2)\n",
            "Requirement already satisfied: Click!=8.0.0,>=7.1 in /usr/local/lib/python3.10/dist-packages (from wandb) (8.1.7)\n",
            "Requirement already satisfied: GitPython!=3.1.29,>=1.0.0 in /usr/local/lib/python3.10/dist-packages (from wandb) (3.1.41)\n",
            "Requirement already satisfied: requests<3,>=2.0.0 in /usr/local/lib/python3.10/dist-packages (from wandb) (2.31.0)\n",
            "Requirement already satisfied: psutil>=5.0.0 in /usr/local/lib/python3.10/dist-packages (from wandb) (5.9.5)\n",
            "Requirement already satisfied: sentry-sdk>=1.0.0 in /usr/local/lib/python3.10/dist-packages (from wandb) (1.39.2)\n",
            "Requirement already satisfied: docker-pycreds>=0.4.0 in /usr/local/lib/python3.10/dist-packages (from wandb) (0.4.0)\n",
            "Requirement already satisfied: PyYAML in /usr/local/lib/python3.10/dist-packages (from wandb) (6.0.1)\n",
            "Requirement already satisfied: setproctitle in /usr/local/lib/python3.10/dist-packages (from wandb) (1.3.3)\n",
            "Requirement already satisfied: setuptools in /usr/local/lib/python3.10/dist-packages (from wandb) (67.7.2)\n",
            "Requirement already satisfied: appdirs>=1.4.3 in /usr/local/lib/python3.10/dist-packages (from wandb) (1.4.4)\n",
            "Requirement already satisfied: protobuf!=4.21.0,<5,>=3.19.0 in /usr/local/lib/python3.10/dist-packages (from wandb) (3.20.3)\n",
            "Requirement already satisfied: six>=1.4.0 in /usr/local/lib/python3.10/dist-packages (from docker-pycreds>=0.4.0->wandb) (1.16.0)\n",
            "Requirement already satisfied: gitdb<5,>=4.0.1 in /usr/local/lib/python3.10/dist-packages (from GitPython!=3.1.29,>=1.0.0->wandb) (4.0.11)\n",
            "Requirement already satisfied: charset-normalizer<4,>=2 in /usr/local/lib/python3.10/dist-packages (from requests<3,>=2.0.0->wandb) (3.3.2)\n",
            "Requirement already satisfied: idna<4,>=2.5 in /usr/local/lib/python3.10/dist-packages (from requests<3,>=2.0.0->wandb) (3.6)\n",
            "Requirement already satisfied: urllib3<3,>=1.21.1 in /usr/local/lib/python3.10/dist-packages (from requests<3,>=2.0.0->wandb) (2.0.7)\n",
            "Requirement already satisfied: certifi>=2017.4.17 in /usr/local/lib/python3.10/dist-packages (from requests<3,>=2.0.0->wandb) (2023.11.17)\n",
            "Requirement already satisfied: smmap<6,>=3.0.1 in /usr/local/lib/python3.10/dist-packages (from gitdb<5,>=4.0.1->GitPython!=3.1.29,>=1.0.0->wandb) (5.0.1)\n"
          ]
        }
      ]
    },
    {
      "cell_type": "code",
      "source": [
        "import wandb\n",
        "from wandb.keras import WandbMetricsLogger\n"
      ],
      "metadata": {
        "id": "TN_Eu_ItBi5c"
      },
      "execution_count": 55,
      "outputs": []
    },
    {
      "cell_type": "code",
      "source": [
        "from tensorflow.keras import layers\n",
        "from tensorflow.keras.applications import EfficientNetB0\n",
        "\n",
        "NUM_CLASSES = 2\n",
        "IMG_SIZE = 224\n",
        "size = (IMG_SIZE, IMG_SIZE)\n",
        "\n",
        "\n",
        "inputs = layers.Input(shape=(IMG_SIZE, IMG_SIZE, 3))\n",
        "\n",
        "\n",
        "# Using model without transfer learning\n",
        "\n",
        "outputs = EfficientNetB0(include_top=True, weights=None, classes=NUM_CLASSES)(inputs)"
      ],
      "metadata": {
        "id": "-vvAv9W8jzTW"
      },
      "execution_count": 56,
      "outputs": []
    },
    {
      "cell_type": "code",
      "source": [
        "model = tf.keras.Model(inputs, outputs)\n",
        "\n",
        "model.compile(optimizer='rmsprop', loss=\"binary_crossentropy\", metrics=[\"accuracy\",\"F1Score\",\"Precision\",\"Recall\"], )\n",
        "\n",
        "model.summary()\n",
        "\n",
        "scheduler= LearningRateScheduler(lr_schedule)\n",
        "\n",
        "hist = model.fit(train_x, train_y, validation_split=0.2, epochs=50, verbose=1, callbacks=[WandbMetricsLogger()])\n",
        ""
      ],
      "metadata": {
        "colab": {
          "base_uri": "https://localhost:8080/"
        },
        "id": "yKzAq-oEj4Ne",
        "outputId": "a0662e1d-4278-4d62-a648-98c0d348960e"
      },
      "execution_count": 57,
      "outputs": [
        {
          "output_type": "stream",
          "name": "stdout",
          "text": [
            "Model: \"model_4\"\n",
            "_________________________________________________________________\n",
            " Layer (type)                Output Shape              Param #   \n",
            "=================================================================\n",
            " input_7 (InputLayer)        [(None, 224, 224, 3)]     0         \n",
            "                                                                 \n",
            " efficientnetb0 (Functional  (None, 2)                 4052133   \n",
            " )                                                               \n",
            "                                                                 \n",
            "=================================================================\n",
            "Total params: 4052133 (15.46 MB)\n",
            "Trainable params: 4010110 (15.30 MB)\n",
            "Non-trainable params: 42023 (164.16 KB)\n",
            "_________________________________________________________________\n",
            "Epoch 1/50\n",
            " 6/29 [=====>........................] - ETA: 6s - loss: 4.5778 - accuracy: 0.5729 - f1_score: 0.4657 - precision: 0.5729 - recall: 0.5729"
          ]
        },
        {
          "output_type": "stream",
          "name": "stderr",
          "text": [
            "WARNING:tensorflow:Callback method `on_train_batch_end` is slow compared to the batch time (batch time: 0.1094s vs `on_train_batch_end` time: 0.1291s). Check your callbacks.\n"
          ]
        },
        {
          "output_type": "stream",
          "name": "stdout",
          "text": [
            "29/29 [==============================] - 45s 369ms/step - loss: 1.4937 - accuracy: 0.7541 - f1_score: 0.5411 - precision: 0.7541 - recall: 0.7541 - val_loss: 0.4060 - val_accuracy: 0.9075 - val_f1_score: 0.4758 - val_precision: 0.9075 - val_recall: 0.9075\n",
            "Epoch 2/50\n",
            "29/29 [==============================] - 8s 266ms/step - loss: 0.3833 - accuracy: 0.8600 - f1_score: 0.5812 - precision: 0.8600 - recall: 0.8600 - val_loss: 0.4299 - val_accuracy: 0.9075 - val_f1_score: 0.4758 - val_precision: 0.9075 - val_recall: 0.9075\n",
            "Epoch 3/50\n",
            "29/29 [==============================] - 8s 280ms/step - loss: 0.3381 - accuracy: 0.8677 - f1_score: 0.6106 - precision: 0.8677 - recall: 0.8677 - val_loss: 0.3193 - val_accuracy: 0.9075 - val_f1_score: 0.4758 - val_precision: 0.9075 - val_recall: 0.9075\n",
            "Epoch 4/50\n",
            "29/29 [==============================] - 8s 276ms/step - loss: 0.3059 - accuracy: 0.8688 - f1_score: 0.6237 - precision: 0.8688 - recall: 0.8688 - val_loss: 0.3179 - val_accuracy: 0.9075 - val_f1_score: 0.4758 - val_precision: 0.9075 - val_recall: 0.9075\n",
            "Epoch 5/50\n",
            "29/29 [==============================] - 8s 275ms/step - loss: 0.2531 - accuracy: 0.9019 - f1_score: 0.7466 - precision: 0.9019 - recall: 0.9019 - val_loss: 0.3089 - val_accuracy: 0.9075 - val_f1_score: 0.4758 - val_precision: 0.9075 - val_recall: 0.9075\n",
            "Epoch 6/50\n",
            "29/29 [==============================] - 8s 278ms/step - loss: 0.1772 - accuracy: 0.9316 - f1_score: 0.8178 - precision: 0.9316 - recall: 0.9316 - val_loss: 3.3332 - val_accuracy: 0.0925 - val_f1_score: 0.0847 - val_precision: 0.0925 - val_recall: 0.0925\n",
            "Epoch 7/50\n",
            "29/29 [==============================] - 8s 275ms/step - loss: 0.1738 - accuracy: 0.9327 - f1_score: 0.8378 - precision: 0.9327 - recall: 0.9327 - val_loss: 2.7676 - val_accuracy: 0.0925 - val_f1_score: 0.0847 - val_precision: 0.0925 - val_recall: 0.0925\n",
            "Epoch 8/50\n",
            "29/29 [==============================] - 8s 278ms/step - loss: 0.1484 - accuracy: 0.9405 - f1_score: 0.8592 - precision: 0.9405 - recall: 0.9405 - val_loss: 0.9642 - val_accuracy: 0.0925 - val_f1_score: 0.0847 - val_precision: 0.0925 - val_recall: 0.0925\n",
            "Epoch 9/50\n",
            "29/29 [==============================] - 9s 303ms/step - loss: 0.1526 - accuracy: 0.9361 - f1_score: 0.8425 - precision: 0.9361 - recall: 0.9361 - val_loss: 1.3332 - val_accuracy: 0.0925 - val_f1_score: 0.0847 - val_precision: 0.0925 - val_recall: 0.0925\n",
            "Epoch 10/50\n",
            "29/29 [==============================] - 10s 337ms/step - loss: 0.1353 - accuracy: 0.9526 - f1_score: 0.8883 - precision: 0.9526 - recall: 0.9526 - val_loss: 1.1496 - val_accuracy: 0.0925 - val_f1_score: 0.0847 - val_precision: 0.0925 - val_recall: 0.0925\n",
            "Epoch 11/50\n",
            "29/29 [==============================] - 8s 267ms/step - loss: 0.1247 - accuracy: 0.9493 - f1_score: 0.8761 - precision: 0.9493 - recall: 0.9493 - val_loss: 1.4468 - val_accuracy: 0.0925 - val_f1_score: 0.0847 - val_precision: 0.0925 - val_recall: 0.0925\n",
            "Epoch 12/50\n",
            "29/29 [==============================] - 8s 280ms/step - loss: 0.1067 - accuracy: 0.9559 - f1_score: 0.8981 - precision: 0.9559 - recall: 0.9559 - val_loss: 0.9156 - val_accuracy: 0.0925 - val_f1_score: 0.0847 - val_precision: 0.0925 - val_recall: 0.0925\n",
            "Epoch 13/50\n",
            "29/29 [==============================] - 8s 268ms/step - loss: 0.1078 - accuracy: 0.9526 - f1_score: 0.8892 - precision: 0.9526 - recall: 0.9526 - val_loss: 0.5620 - val_accuracy: 0.9075 - val_f1_score: 0.4758 - val_precision: 0.9075 - val_recall: 0.9075\n",
            "Epoch 14/50\n",
            "29/29 [==============================] - 8s 281ms/step - loss: 0.1047 - accuracy: 0.9625 - f1_score: 0.9099 - precision: 0.9625 - recall: 0.9625 - val_loss: 1.1571 - val_accuracy: 0.0925 - val_f1_score: 0.0847 - val_precision: 0.0925 - val_recall: 0.0925\n",
            "Epoch 15/50\n",
            "29/29 [==============================] - 8s 276ms/step - loss: 0.1232 - accuracy: 0.9559 - f1_score: 0.8914 - precision: 0.9559 - recall: 0.9559 - val_loss: 2.1951 - val_accuracy: 0.0925 - val_f1_score: 0.0847 - val_precision: 0.0925 - val_recall: 0.0925\n",
            "Epoch 16/50\n",
            "29/29 [==============================] - 8s 273ms/step - loss: 0.1624 - accuracy: 0.9625 - f1_score: 0.9099 - precision: 0.9625 - recall: 0.9625 - val_loss: 1.5270 - val_accuracy: 0.0925 - val_f1_score: 0.0847 - val_precision: 0.0925 - val_recall: 0.0925\n",
            "Epoch 17/50\n",
            "29/29 [==============================] - 8s 272ms/step - loss: 0.0851 - accuracy: 0.9614 - f1_score: 0.9091 - precision: 0.9614 - recall: 0.9614 - val_loss: 0.5690 - val_accuracy: 0.7885 - val_f1_score: 0.4788 - val_precision: 0.7885 - val_recall: 0.7885\n",
            "Epoch 18/50\n",
            "29/29 [==============================] - 8s 273ms/step - loss: 0.0895 - accuracy: 0.9570 - f1_score: 0.8963 - precision: 0.9570 - recall: 0.9570 - val_loss: 1.7988 - val_accuracy: 0.1542 - val_f1_score: 0.1534 - val_precision: 0.1542 - val_recall: 0.1542\n",
            "Epoch 19/50\n",
            "29/29 [==============================] - 8s 274ms/step - loss: 0.0948 - accuracy: 0.9603 - f1_score: 0.9054 - precision: 0.9603 - recall: 0.9603 - val_loss: 1.3968 - val_accuracy: 0.2423 - val_f1_score: 0.2380 - val_precision: 0.2423 - val_recall: 0.2423\n",
            "Epoch 20/50\n",
            "29/29 [==============================] - 8s 270ms/step - loss: 0.0762 - accuracy: 0.9658 - f1_score: 0.9195 - precision: 0.9658 - recall: 0.9658 - val_loss: 0.5425 - val_accuracy: 0.7621 - val_f1_score: 0.5543 - val_precision: 0.7621 - val_recall: 0.7621\n",
            "Epoch 21/50\n",
            "29/29 [==============================] - 8s 280ms/step - loss: 0.0703 - accuracy: 0.9603 - f1_score: 0.9039 - precision: 0.9603 - recall: 0.9603 - val_loss: 2.0380 - val_accuracy: 0.2599 - val_f1_score: 0.2547 - val_precision: 0.2599 - val_recall: 0.2599\n",
            "Epoch 22/50\n",
            "29/29 [==============================] - 8s 269ms/step - loss: 0.0849 - accuracy: 0.9592 - f1_score: 0.9032 - precision: 0.9592 - recall: 0.9592 - val_loss: 0.6226 - val_accuracy: 0.7004 - val_f1_score: 0.5640 - val_precision: 0.7004 - val_recall: 0.7004\n",
            "Epoch 23/50\n",
            "29/29 [==============================] - 8s 280ms/step - loss: 0.0711 - accuracy: 0.9691 - f1_score: 0.9246 - precision: 0.9691 - recall: 0.9691 - val_loss: 0.6689 - val_accuracy: 0.6520 - val_f1_score: 0.5502 - val_precision: 0.6520 - val_recall: 0.6520\n",
            "Epoch 24/50\n",
            "29/29 [==============================] - 8s 269ms/step - loss: 0.0656 - accuracy: 0.9680 - f1_score: 0.9235 - precision: 0.9680 - recall: 0.9680 - val_loss: 0.7748 - val_accuracy: 0.6300 - val_f1_score: 0.5340 - val_precision: 0.6300 - val_recall: 0.6300\n",
            "Epoch 25/50\n",
            "29/29 [==============================] - 8s 273ms/step - loss: 0.0732 - accuracy: 0.9603 - f1_score: 0.9046 - precision: 0.9603 - recall: 0.9603 - val_loss: 0.3298 - val_accuracy: 0.8987 - val_f1_score: 0.7760 - val_precision: 0.8987 - val_recall: 0.8987\n",
            "Epoch 26/50\n",
            "29/29 [==============================] - 8s 275ms/step - loss: 0.0730 - accuracy: 0.9636 - f1_score: 0.9108 - precision: 0.9636 - recall: 0.9636 - val_loss: 0.1962 - val_accuracy: 0.9163 - val_f1_score: 0.8149 - val_precision: 0.9163 - val_recall: 0.9163\n",
            "Epoch 27/50\n",
            "29/29 [==============================] - 8s 282ms/step - loss: 0.0721 - accuracy: 0.9647 - f1_score: 0.9166 - precision: 0.9647 - recall: 0.9647 - val_loss: 0.1894 - val_accuracy: 0.9383 - val_f1_score: 0.8480 - val_precision: 0.9383 - val_recall: 0.9383\n",
            "Epoch 28/50\n",
            "29/29 [==============================] - 8s 278ms/step - loss: 0.0714 - accuracy: 0.9680 - f1_score: 0.9241 - precision: 0.9680 - recall: 0.9680 - val_loss: 0.3322 - val_accuracy: 0.8326 - val_f1_score: 0.6451 - val_precision: 0.8326 - val_recall: 0.8326\n",
            "Epoch 29/50\n",
            "29/29 [==============================] - 8s 278ms/step - loss: 0.0661 - accuracy: 0.9669 - f1_score: 0.9205 - precision: 0.9669 - recall: 0.9669 - val_loss: 0.2641 - val_accuracy: 0.8767 - val_f1_score: 0.7578 - val_precision: 0.8767 - val_recall: 0.8767\n",
            "Epoch 30/50\n",
            "29/29 [==============================] - 8s 278ms/step - loss: 0.0732 - accuracy: 0.9625 - f1_score: 0.9121 - precision: 0.9625 - recall: 0.9625 - val_loss: 0.2399 - val_accuracy: 0.9031 - val_f1_score: 0.7528 - val_precision: 0.9031 - val_recall: 0.9031\n",
            "Epoch 31/50\n",
            "29/29 [==============================] - 8s 270ms/step - loss: 0.0652 - accuracy: 0.9669 - f1_score: 0.9212 - precision: 0.9669 - recall: 0.9669 - val_loss: 0.4126 - val_accuracy: 0.9251 - val_f1_score: 0.7057 - val_precision: 0.9251 - val_recall: 0.9251\n",
            "Epoch 32/50\n",
            "29/29 [==============================] - 8s 275ms/step - loss: 0.0673 - accuracy: 0.9614 - f1_score: 0.9091 - precision: 0.9614 - recall: 0.9614 - val_loss: 0.1569 - val_accuracy: 0.9427 - val_f1_score: 0.8257 - val_precision: 0.9427 - val_recall: 0.9427\n",
            "Epoch 33/50\n",
            "29/29 [==============================] - 8s 269ms/step - loss: 0.0645 - accuracy: 0.9702 - f1_score: 0.9288 - precision: 0.9702 - recall: 0.9702 - val_loss: 0.2251 - val_accuracy: 0.9471 - val_f1_score: 0.8490 - val_precision: 0.9471 - val_recall: 0.9471\n",
            "Epoch 34/50\n",
            "29/29 [==============================] - 8s 281ms/step - loss: 0.0628 - accuracy: 0.9724 - f1_score: 0.9324 - precision: 0.9724 - recall: 0.9724 - val_loss: 0.4346 - val_accuracy: 0.8987 - val_f1_score: 0.6440 - val_precision: 0.8987 - val_recall: 0.8987\n",
            "Epoch 35/50\n",
            "29/29 [==============================] - 8s 277ms/step - loss: 0.0663 - accuracy: 0.9658 - f1_score: 0.9195 - precision: 0.9658 - recall: 0.9658 - val_loss: 0.4728 - val_accuracy: 0.9251 - val_f1_score: 0.6653 - val_precision: 0.9251 - val_recall: 0.9251\n",
            "Epoch 36/50\n",
            "29/29 [==============================] - 8s 276ms/step - loss: 0.0628 - accuracy: 0.9658 - f1_score: 0.9182 - precision: 0.9658 - recall: 0.9658 - val_loss: 0.1931 - val_accuracy: 0.9339 - val_f1_score: 0.8343 - val_precision: 0.9339 - val_recall: 0.9339\n",
            "Epoch 37/50\n",
            "29/29 [==============================] - 8s 269ms/step - loss: 0.0653 - accuracy: 0.9647 - f1_score: 0.9185 - precision: 0.9647 - recall: 0.9647 - val_loss: 0.6152 - val_accuracy: 0.9119 - val_f1_score: 0.5223 - val_precision: 0.9119 - val_recall: 0.9119\n",
            "Epoch 38/50\n",
            "29/29 [==============================] - 8s 274ms/step - loss: 0.0714 - accuracy: 0.9669 - f1_score: 0.9199 - precision: 0.9669 - recall: 0.9669 - val_loss: 0.2494 - val_accuracy: 0.9295 - val_f1_score: 0.7987 - val_precision: 0.9295 - val_recall: 0.9295\n",
            "Epoch 39/50\n",
            "29/29 [==============================] - 8s 271ms/step - loss: 0.0668 - accuracy: 0.9658 - f1_score: 0.9182 - precision: 0.9658 - recall: 0.9658 - val_loss: 0.5221 - val_accuracy: 0.9207 - val_f1_score: 0.6328 - val_precision: 0.9207 - val_recall: 0.9207\n",
            "Epoch 40/50\n",
            "29/29 [==============================] - 8s 272ms/step - loss: 0.0672 - accuracy: 0.9669 - f1_score: 0.9199 - precision: 0.9669 - recall: 0.9669 - val_loss: 0.7380 - val_accuracy: 0.9119 - val_f1_score: 0.5223 - val_precision: 0.9119 - val_recall: 0.9119\n",
            "Epoch 41/50\n",
            "29/29 [==============================] - 8s 278ms/step - loss: 0.0719 - accuracy: 0.9581 - f1_score: 0.8985 - precision: 0.9581 - recall: 0.9581 - val_loss: 1.5258 - val_accuracy: 0.8987 - val_f1_score: 0.6440 - val_precision: 0.8987 - val_recall: 0.8987\n",
            "Epoch 42/50\n",
            "29/29 [==============================] - 8s 270ms/step - loss: 0.0690 - accuracy: 0.9713 - f1_score: 0.9317 - precision: 0.9713 - recall: 0.9713 - val_loss: 0.1829 - val_accuracy: 0.9427 - val_f1_score: 0.8397 - val_precision: 0.9427 - val_recall: 0.9427\n",
            "Epoch 43/50\n",
            "29/29 [==============================] - 8s 280ms/step - loss: 0.0652 - accuracy: 0.9691 - f1_score: 0.9276 - precision: 0.9691 - recall: 0.9691 - val_loss: 0.4761 - val_accuracy: 0.8855 - val_f1_score: 0.7572 - val_precision: 0.8855 - val_recall: 0.8855\n",
            "Epoch 44/50\n",
            "29/29 [==============================] - 8s 277ms/step - loss: 0.0644 - accuracy: 0.9647 - f1_score: 0.9145 - precision: 0.9647 - recall: 0.9647 - val_loss: 0.5922 - val_accuracy: 0.8678 - val_f1_score: 0.6742 - val_precision: 0.8678 - val_recall: 0.8678\n",
            "Epoch 45/50\n",
            "29/29 [==============================] - 8s 281ms/step - loss: 0.0729 - accuracy: 0.9625 - f1_score: 0.9114 - precision: 0.9625 - recall: 0.9625 - val_loss: 0.2991 - val_accuracy: 0.9031 - val_f1_score: 0.6681 - val_precision: 0.9031 - val_recall: 0.9031\n",
            "Epoch 46/50\n",
            "29/29 [==============================] - 8s 269ms/step - loss: 0.0594 - accuracy: 0.9691 - f1_score: 0.9264 - precision: 0.9691 - recall: 0.9691 - val_loss: 0.1895 - val_accuracy: 0.9471 - val_f1_score: 0.8602 - val_precision: 0.9471 - val_recall: 0.9471\n",
            "Epoch 47/50\n",
            "29/29 [==============================] - 8s 274ms/step - loss: 0.0593 - accuracy: 0.9680 - f1_score: 0.9235 - precision: 0.9680 - recall: 0.9680 - val_loss: 0.2240 - val_accuracy: 0.9427 - val_f1_score: 0.8513 - val_precision: 0.9427 - val_recall: 0.9427\n",
            "Epoch 48/50\n",
            "29/29 [==============================] - 8s 275ms/step - loss: 0.0773 - accuracy: 0.9614 - f1_score: 0.9069 - precision: 0.9614 - recall: 0.9614 - val_loss: 0.2049 - val_accuracy: 0.9427 - val_f1_score: 0.8457 - val_precision: 0.9427 - val_recall: 0.9427\n",
            "Epoch 49/50\n",
            "29/29 [==============================] - 8s 273ms/step - loss: 0.0614 - accuracy: 0.9713 - f1_score: 0.9322 - precision: 0.9713 - recall: 0.9713 - val_loss: 0.2490 - val_accuracy: 0.9427 - val_f1_score: 0.8513 - val_precision: 0.9427 - val_recall: 0.9427\n",
            "Epoch 50/50\n",
            "29/29 [==============================] - 8s 271ms/step - loss: 0.0614 - accuracy: 0.9647 - f1_score: 0.9152 - precision: 0.9647 - recall: 0.9647 - val_loss: 0.5234 - val_accuracy: 0.9075 - val_f1_score: 0.5555 - val_precision: 0.9075 - val_recall: 0.9075\n"
          ]
        }
      ]
    },
    {
      "cell_type": "markdown",
      "source": [
        "accuracy of 95.59% in only 5 epochs?? yep thats learning rate scheduling :)))"
      ],
      "metadata": {
        "id": "fwHwv0CMqpQ-"
      }
    },
    {
      "cell_type": "code",
      "source": [
        "preds = model.evaluate(test_x, test_y)\n",
        "print (\"Loss = \" + str(preds[0]))\n",
        "print (\"Test Accuracy = \" + str(preds[1]))"
      ],
      "metadata": {
        "colab": {
          "base_uri": "https://localhost:8080/",
          "height": 217
        },
        "id": "YVEQFAHooa3_",
        "outputId": "019bd943-d814-457b-f3a5-d7d3fc0f6af7"
      },
      "execution_count": 1,
      "outputs": [
        {
          "output_type": "error",
          "ename": "NameError",
          "evalue": "name 'model' is not defined",
          "traceback": [
            "\u001b[0;31m---------------------------------------------------------------------------\u001b[0m",
            "\u001b[0;31mNameError\u001b[0m                                 Traceback (most recent call last)",
            "\u001b[0;32m<ipython-input-1-2d444a834af4>\u001b[0m in \u001b[0;36m<cell line: 1>\u001b[0;34m()\u001b[0m\n\u001b[0;32m----> 1\u001b[0;31m \u001b[0mpreds\u001b[0m \u001b[0;34m=\u001b[0m \u001b[0mmodel\u001b[0m\u001b[0;34m.\u001b[0m\u001b[0mevaluate\u001b[0m\u001b[0;34m(\u001b[0m\u001b[0mtest_x\u001b[0m\u001b[0;34m,\u001b[0m \u001b[0mtest_y\u001b[0m\u001b[0;34m)\u001b[0m\u001b[0;34m\u001b[0m\u001b[0;34m\u001b[0m\u001b[0m\n\u001b[0m\u001b[1;32m      2\u001b[0m \u001b[0mprint\u001b[0m \u001b[0;34m(\u001b[0m\u001b[0;34m\"Loss = \"\u001b[0m \u001b[0;34m+\u001b[0m \u001b[0mstr\u001b[0m\u001b[0;34m(\u001b[0m\u001b[0mpreds\u001b[0m\u001b[0;34m[\u001b[0m\u001b[0;36m0\u001b[0m\u001b[0;34m]\u001b[0m\u001b[0;34m)\u001b[0m\u001b[0;34m)\u001b[0m\u001b[0;34m\u001b[0m\u001b[0;34m\u001b[0m\u001b[0m\n\u001b[1;32m      3\u001b[0m \u001b[0mprint\u001b[0m \u001b[0;34m(\u001b[0m\u001b[0;34m\"Test Accuracy = \"\u001b[0m \u001b[0;34m+\u001b[0m \u001b[0mstr\u001b[0m\u001b[0;34m(\u001b[0m\u001b[0mpreds\u001b[0m\u001b[0;34m[\u001b[0m\u001b[0;36m1\u001b[0m\u001b[0;34m]\u001b[0m\u001b[0;34m)\u001b[0m\u001b[0;34m)\u001b[0m\u001b[0;34m\u001b[0m\u001b[0;34m\u001b[0m\u001b[0m\n",
            "\u001b[0;31mNameError\u001b[0m: name 'model' is not defined"
          ]
        }
      ]
    },
    {
      "cell_type": "code",
      "source": [
        "predictions = (model.predict(test_x) > 0.5).astype(\"int32\")\n",
        "predictions"
      ],
      "metadata": {
        "colab": {
          "base_uri": "https://localhost:8080/"
        },
        "id": "EGeIIK4LVwnz",
        "outputId": "164fd3ae-0684-4ccc-e576-b89ccbccb8f4"
      },
      "execution_count": 59,
      "outputs": [
        {
          "output_type": "stream",
          "name": "stdout",
          "text": [
            "2/2 [==============================] - 1s 62ms/step\n"
          ]
        },
        {
          "output_type": "execute_result",
          "data": {
            "text/plain": [
              "array([[1, 0],\n",
              "       [1, 0],\n",
              "       [1, 0],\n",
              "       [1, 0],\n",
              "       [1, 0],\n",
              "       [1, 0],\n",
              "       [1, 0],\n",
              "       [1, 0],\n",
              "       [1, 0],\n",
              "       [1, 0],\n",
              "       [1, 0],\n",
              "       [1, 0],\n",
              "       [1, 0],\n",
              "       [1, 0],\n",
              "       [1, 0],\n",
              "       [1, 0],\n",
              "       [1, 0],\n",
              "       [1, 0],\n",
              "       [1, 0],\n",
              "       [1, 0],\n",
              "       [1, 0],\n",
              "       [1, 0],\n",
              "       [1, 0],\n",
              "       [1, 0],\n",
              "       [1, 0],\n",
              "       [1, 0],\n",
              "       [1, 0],\n",
              "       [1, 0],\n",
              "       [1, 0],\n",
              "       [1, 0],\n",
              "       [0, 1],\n",
              "       [1, 0],\n",
              "       [1, 0],\n",
              "       [1, 0],\n",
              "       [1, 0],\n",
              "       [1, 0],\n",
              "       [1, 0],\n",
              "       [1, 0],\n",
              "       [0, 1],\n",
              "       [1, 0],\n",
              "       [1, 0],\n",
              "       [1, 0],\n",
              "       [1, 0],\n",
              "       [1, 0],\n",
              "       [1, 0],\n",
              "       [1, 0],\n",
              "       [0, 1],\n",
              "       [1, 0],\n",
              "       [1, 0],\n",
              "       [1, 0],\n",
              "       [1, 0],\n",
              "       [1, 0],\n",
              "       [1, 0],\n",
              "       [1, 0],\n",
              "       [1, 0],\n",
              "       [1, 0],\n",
              "       [1, 0],\n",
              "       [1, 0],\n",
              "       [1, 0],\n",
              "       [1, 0]], dtype=int32)"
            ]
          },
          "metadata": {},
          "execution_count": 59
        }
      ]
    },
    {
      "cell_type": "code",
      "source": [
        "bruh= model.predict(test_x)\n",
        "print(bruh)"
      ],
      "metadata": {
        "colab": {
          "base_uri": "https://localhost:8080/"
        },
        "id": "TTA97qMnWo0k",
        "outputId": "999c4c48-5014-4104-b99c-7c04e1986cb8"
      },
      "execution_count": 60,
      "outputs": [
        {
          "output_type": "stream",
          "name": "stdout",
          "text": [
            "2/2 [==============================] - 0s 56ms/step\n",
            "[[9.9956876e-01 4.3117438e-04]\n",
            " [9.9999988e-01 6.9412415e-08]\n",
            " [1.0000000e+00 0.0000000e+00]\n",
            " [1.0000000e+00 9.0159935e-10]\n",
            " [1.0000000e+00 0.0000000e+00]\n",
            " [9.9193317e-01 8.0668200e-03]\n",
            " [9.9999857e-01 1.4785446e-06]\n",
            " [1.0000000e+00 8.0308221e-10]\n",
            " [1.0000000e+00 0.0000000e+00]\n",
            " [1.0000000e+00 1.9592673e-35]\n",
            " [1.0000000e+00 5.4881578e-08]\n",
            " [9.9999988e-01 8.7206431e-08]\n",
            " [1.0000000e+00 8.0674031e-26]\n",
            " [1.0000000e+00 1.2486757e-16]\n",
            " [1.0000000e+00 5.0990430e-08]\n",
            " [9.9999976e-01 2.7642767e-07]\n",
            " [1.0000000e+00 7.0564898e-10]\n",
            " [1.0000000e+00 0.0000000e+00]\n",
            " [9.9999952e-01 5.0354629e-07]\n",
            " [1.0000000e+00 0.0000000e+00]\n",
            " [1.0000000e+00 0.0000000e+00]\n",
            " [1.0000000e+00 3.5176627e-16]\n",
            " [9.9999928e-01 6.8915199e-07]\n",
            " [9.9998248e-01 1.7527414e-05]\n",
            " [1.0000000e+00 0.0000000e+00]\n",
            " [9.9999976e-01 2.9558862e-07]\n",
            " [1.0000000e+00 0.0000000e+00]\n",
            " [9.9998331e-01 1.6694798e-05]\n",
            " [1.0000000e+00 5.8324840e-30]\n",
            " [9.9999857e-01 1.4785446e-06]\n",
            " [1.8888237e-01 8.1111765e-01]\n",
            " [9.9999952e-01 5.1327663e-07]\n",
            " [9.9997163e-01 2.8326147e-05]\n",
            " [1.0000000e+00 0.0000000e+00]\n",
            " [1.0000000e+00 0.0000000e+00]\n",
            " [9.9999857e-01 1.4492877e-06]\n",
            " [1.0000000e+00 0.0000000e+00]\n",
            " [9.9999988e-01 8.5372704e-08]\n",
            " [6.0944846e-03 9.9390548e-01]\n",
            " [1.0000000e+00 4.3419005e-36]\n",
            " [1.0000000e+00 5.4667815e-12]\n",
            " [1.0000000e+00 0.0000000e+00]\n",
            " [1.0000000e+00 3.1548599e-09]\n",
            " [1.0000000e+00 1.8206477e-10]\n",
            " [1.0000000e+00 0.0000000e+00]\n",
            " [1.0000000e+00 5.3416289e-09]\n",
            " [1.8888237e-01 8.1111765e-01]\n",
            " [9.9999952e-01 5.2284031e-07]\n",
            " [9.9999583e-01 4.2129504e-06]\n",
            " [1.0000000e+00 9.0159935e-10]\n",
            " [1.0000000e+00 2.7500088e-08]\n",
            " [9.9994266e-01 5.7381636e-05]\n",
            " [1.0000000e+00 5.1656773e-08]\n",
            " [1.0000000e+00 1.2786995e-27]\n",
            " [9.9999952e-01 4.3548053e-07]\n",
            " [1.0000000e+00 1.1504029e-18]\n",
            " [1.0000000e+00 0.0000000e+00]\n",
            " [1.0000000e+00 0.0000000e+00]\n",
            " [1.0000000e+00 3.5917380e-09]\n",
            " [1.0000000e+00 2.7500088e-08]]\n"
          ]
        }
      ]
    },
    {
      "cell_type": "markdown",
      "source": [
        "TAKING UNSEEN SOYABEAN LEAF IMAGE\n"
      ],
      "metadata": {
        "id": "XIapBYaQGPVT"
      }
    },
    {
      "cell_type": "markdown",
      "source": [
        "It predicts diseased leaf, which is correct."
      ],
      "metadata": {
        "id": "Z3QIAAi3GmDu"
      }
    },
    {
      "cell_type": "code",
      "source": [
        "f1= hist.history['f1_score']\n",
        "f1_scores = []\n",
        "prec_list=[]\n",
        "rec_list=[]\n",
        "for pair in f1:\n",
        "    precision = pair[0]\n",
        "    recall = pair[1]\n",
        "    f1_ = 2 * (precision * recall) / (precision + recall) if (precision + recall) != 0 else 0\n",
        "    f1_scores.append(f1_)\n",
        "    prec_list.append(precision)\n",
        "    rec_list.append(recall)\n",
        "\n",
        "# Convert the list of F1 scores to a NumPy array\n",
        "f1_scores_array = np.array(f1_scores)\n",
        "prec_list= np.array(prec_list)\n",
        "rec_list= np.array(rec_list)\n",
        "print(f1_scores_array)\n",
        "print(prec_list)\n",
        "print(rec_list)"
      ],
      "metadata": {
        "colab": {
          "base_uri": "https://localhost:8080/"
        },
        "id": "Esm2X9hkc9ce",
        "outputId": "4d57fa85-38a2-434b-c0d8-8abdc99ee266"
      },
      "execution_count": 61,
      "outputs": [
        {
          "output_type": "stream",
          "name": "stdout",
          "text": [
            "[0.36035626 0.38033282 0.44655416 0.47581787 0.6938855  0.79237175\n",
            " 0.81936109 0.84592076 0.82503675 0.88027224 0.86579603 0.89158431\n",
            " 0.88132325 0.90473169 0.8835335  0.90473169 0.90389218 0.88924221\n",
            " 0.89966593 0.9154514  0.89785388 0.89715328 0.92097459 0.91980019\n",
            " 0.89876931 0.90559516 0.9121993  0.92049242 0.91652657 0.90719792\n",
            " 0.91725311 0.90389218 0.9255863  0.92950094 0.9154514  0.9139729\n",
            " 0.91440865 0.9157848  0.9139729  0.9157848  0.89178724 0.92877182\n",
            " 0.9243369  0.90985188 0.90639257 0.92303269 0.91980019 0.90131544\n",
            " 0.92937787 0.91065051]\n",
            "[0.8537705  0.9228901  0.9270073  0.9273948  0.9449598  0.9618226\n",
            " 0.96189874 0.9661654  0.9638854  0.9730407  0.97132164 0.9748428\n",
            " 0.9730069  0.97875    0.97509336 0.97875    0.9780565  0.97564024\n",
            " 0.9774718  0.9805643  0.9775281  0.9768316  0.98254365 0.9818637\n",
            " 0.9775     0.97943926 0.9799499  0.98184097 0.98125    0.97867006\n",
            " 0.9812265  0.9780565  0.9831144  0.9844237  0.9805643  0.9806129\n",
            " 0.9798742  0.9812734  0.9806129  0.9812734  0.97627974 0.98372966\n",
            " 0.9824341  0.98002493 0.97869676 0.98247814 0.9818637  0.9781387\n",
            " 0.9837093  0.98      ]\n",
            "[0.2283737  0.23952098 0.29411766 0.32000002 0.5482234  0.6736842\n",
            " 0.713615   0.7522936  0.72115386 0.803653   0.7809524  0.82142854\n",
            " 0.8054299  0.8411215  0.80769235 0.8411215  0.8401826  0.8169014\n",
            " 0.8333333  0.8584475  0.83018863 0.8294931  0.86666673 0.8651163\n",
            " 0.8317757  0.84210527 0.853211   0.86635953 0.8598131  0.8454545\n",
            " 0.86111104 0.8401826  0.8744187  0.8803828  0.8584475  0.8558139\n",
            " 0.85714287 0.8584905  0.8558139  0.8584905  0.82075477 0.8796296\n",
            " 0.87272733 0.8490566  0.8440367  0.8703704  0.8651163  0.8356808\n",
            " 0.88073397 0.8504674 ]\n"
          ]
        }
      ]
    },
    {
      "cell_type": "code",
      "source": [
        "import plotly.graph_objs as go\n",
        "import numpy as np\n",
        "epochs=list(range(1,51))\n",
        "\n",
        "trace_accuracy = go.Scatter(x=epochs, y=hist.history['accuracy'], mode='lines', name='Accuracy')\n",
        "trace_precision = go.Scatter(x=epochs, y=prec_list, mode='lines', name='Precision')\n",
        "trace_recall = go.Scatter(x=epochs, y=rec_list, mode='lines', name='Recall')\n",
        "trace_f1_score = go.Scatter(x=epochs, y=f1_scores_array, mode='lines', name='F1 Score')\n",
        "\n",
        "layout = go.Layout(\n",
        "    title='Metrics Across Epochs',\n",
        "    xaxis=dict(title='Epochs'),\n",
        "    yaxis=dict(title='Value'),\n",
        ")\n",
        "\n",
        "# Combining traces and layout\n",
        "data = [trace_accuracy, trace_precision, trace_recall, trace_f1_score]\n",
        "fig = go.Figure(data=data, layout=layout)\n",
        "\n",
        "# Displaying the plot\n",
        "fig.show()"
      ],
      "metadata": {
        "colab": {
          "base_uri": "https://localhost:8080/",
          "height": 542
        },
        "id": "Xg9HTM6FdDCu",
        "outputId": "5cb28449-1e83-4e67-d503-6116b994b95f"
      },
      "execution_count": 62,
      "outputs": [
        {
          "output_type": "display_data",
          "data": {
            "text/html": [
              "<html>\n",
              "<head><meta charset=\"utf-8\" /></head>\n",
              "<body>\n",
              "    <div>            <script src=\"https://cdnjs.cloudflare.com/ajax/libs/mathjax/2.7.5/MathJax.js?config=TeX-AMS-MML_SVG\"></script><script type=\"text/javascript\">if (window.MathJax && window.MathJax.Hub && window.MathJax.Hub.Config) {window.MathJax.Hub.Config({SVG: {font: \"STIX-Web\"}});}</script>                <script type=\"text/javascript\">window.PlotlyConfig = {MathJaxConfig: 'local'};</script>\n",
              "        <script charset=\"utf-8\" src=\"https://cdn.plot.ly/plotly-2.24.1.min.js\"></script>                <div id=\"43ea71e9-63f7-4ad6-b4ae-05833fecc6f5\" class=\"plotly-graph-div\" style=\"height:525px; width:100%;\"></div>            <script type=\"text/javascript\">                                    window.PLOTLYENV=window.PLOTLYENV || {};                                    if (document.getElementById(\"43ea71e9-63f7-4ad6-b4ae-05833fecc6f5\")) {                    Plotly.newPlot(                        \"43ea71e9-63f7-4ad6-b4ae-05833fecc6f5\",                        [{\"mode\":\"lines\",\"name\":\"Accuracy\",\"x\":[1,2,3,4,5,6,7,8,9,10,11,12,13,14,15,16,17,18,19,20,21,22,23,24,25,26,27,28,29,30,31,32,33,34,35,36,37,38,39,40,41,42,43,44,45,46,47,48,49,50],\"y\":[0.7541345357894897,0.8599779605865479,0.867695689201355,0.8687982559204102,0.901874303817749,0.9316427707672119,0.9327453374862671,0.9404630661010742,0.9360529184341431,0.9525909423828125,0.9492833614349365,0.9558985829353333,0.9525909423828125,0.96251380443573,0.9558985829353333,0.96251380443573,0.9614112377166748,0.9570010900497437,0.9603087306022644,0.965821385383606,0.9603087306022644,0.9592061638832092,0.9691290259361267,0.9680264592170715,0.9603087306022644,0.9636163115501404,0.9647188782691956,0.9680264592170715,0.9669239521026611,0.96251380443573,0.9669239521026611,0.9614112377166748,0.9702315330505371,0.9724366068840027,0.965821385383606,0.965821385383606,0.9647188782691956,0.9669239521026611,0.965821385383606,0.9669239521026611,0.9581036567687988,0.9713340401649475,0.9691290259361267,0.9647188782691956,0.96251380443573,0.9691290259361267,0.9680264592170715,0.9614112377166748,0.9713340401649475,0.9647188782691956],\"type\":\"scatter\"},{\"mode\":\"lines\",\"name\":\"Precision\",\"x\":[1,2,3,4,5,6,7,8,9,10,11,12,13,14,15,16,17,18,19,20,21,22,23,24,25,26,27,28,29,30,31,32,33,34,35,36,37,38,39,40,41,42,43,44,45,46,47,48,49,50],\"y\":[0.8537704944610596,0.9228901267051697,0.9270073175430298,0.9273948073387146,0.944959819316864,0.9618226289749146,0.9618987441062927,0.9661654233932495,0.9638854265213013,0.9730406999588013,0.9713216423988342,0.9748427867889404,0.9730069041252136,0.9787499904632568,0.9750933647155762,0.9787499904632568,0.9780564904212952,0.9756402373313904,0.9774718284606934,0.980564296245575,0.9775280952453613,0.9768316149711609,0.9825436472892761,0.9818636775016785,0.9775000214576721,0.9794392585754395,0.9799498915672302,0.981840968132019,0.981249988079071,0.978670060634613,0.9812265038490295,0.9780564904212952,0.9831144213676453,0.9844236969947815,0.980564296245575,0.9806128740310669,0.9798741936683655,0.9812734127044678,0.9806128740310669,0.9812734127044678,0.9762797355651855,0.9837296605110168,0.982434093952179,0.9800249338150024,0.9786967635154724,0.982478141784668,0.9818636775016785,0.9781386852264404,0.9837092757225037,0.9800000190734863],\"type\":\"scatter\"},{\"mode\":\"lines\",\"name\":\"Recall\",\"x\":[1,2,3,4,5,6,7,8,9,10,11,12,13,14,15,16,17,18,19,20,21,22,23,24,25,26,27,28,29,30,31,32,33,34,35,36,37,38,39,40,41,42,43,44,45,46,47,48,49,50],\"y\":[0.2283737063407898,0.23952098190784454,0.29411765933036804,0.320000022649765,0.5482233762741089,0.6736841797828674,0.7136150002479553,0.752293586730957,0.7211538553237915,0.8036530017852783,0.7809523940086365,0.8214285373687744,0.8054298758506775,0.84112149477005,0.8076923489570618,0.84112149477005,0.8401826024055481,0.8169013857841492,0.8333333134651184,0.8584474921226501,0.8301886320114136,0.8294931054115295,0.8666667342185974,0.8651162981987,0.8317757248878479,0.8421052694320679,0.853210985660553,0.866359531879425,0.8598130941390991,0.8454545140266418,0.861111044883728,0.8401826024055481,0.8744186758995056,0.880382776260376,0.8584474921226501,0.8558139204978943,0.8571428656578064,0.858490526676178,0.8558139204978943,0.858490526676178,0.8207547664642334,0.8796296119689941,0.8727273344993591,0.849056601524353,0.8440366983413696,0.8703703880310059,0.8651162981987,0.8356807827949524,0.8807339668273926,0.8504673838615417],\"type\":\"scatter\"},{\"mode\":\"lines\",\"name\":\"F1 Score\",\"x\":[1,2,3,4,5,6,7,8,9,10,11,12,13,14,15,16,17,18,19,20,21,22,23,24,25,26,27,28,29,30,31,32,33,34,35,36,37,38,39,40,41,42,43,44,45,46,47,48,49,50],\"y\":[0.36035625937188387,0.3803328188225816,0.4465541645323945,0.47581787336392356,0.6938854971144193,0.7923717454105528,0.8193610946759455,0.845920763368321,0.8250367488557236,0.8802722385627416,0.8657960261620747,0.8915843123034605,0.8813232520538611,0.9047316854738066,0.883533499296895,0.9047316854738066,0.9038921828854886,0.8892422116244614,0.8996659278976736,0.9154514019771761,0.8978538767587692,0.8971532844306734,0.9209745865555342,0.9198001935122723,0.8987693137879221,0.9055951604894772,0.9121993009603276,0.9204924202600261,0.916526568710763,0.9071979195217106,0.9172531137558099,0.9038921828854886,0.9255862987038282,0.9295009374722322,0.9154514019771761,0.9139728987818551,0.9144086547346868,0.9157848042818215,0.9139728987818551,0.9157848042818215,0.8917872413085359,0.9287718180358377,0.9243368973916449,0.9098518794471752,0.9063925668447939,0.9230326929090088,0.9198001935122723,0.901315441834665,0.9293778729065649,0.91065051200665],\"type\":\"scatter\"}],                        {\"title\":{\"text\":\"Metrics Across Epochs\"},\"xaxis\":{\"title\":{\"text\":\"Epochs\"}},\"yaxis\":{\"title\":{\"text\":\"Value\"}},\"template\":{\"data\":{\"histogram2dcontour\":[{\"type\":\"histogram2dcontour\",\"colorbar\":{\"outlinewidth\":0,\"ticks\":\"\"},\"colorscale\":[[0.0,\"#0d0887\"],[0.1111111111111111,\"#46039f\"],[0.2222222222222222,\"#7201a8\"],[0.3333333333333333,\"#9c179e\"],[0.4444444444444444,\"#bd3786\"],[0.5555555555555556,\"#d8576b\"],[0.6666666666666666,\"#ed7953\"],[0.7777777777777778,\"#fb9f3a\"],[0.8888888888888888,\"#fdca26\"],[1.0,\"#f0f921\"]]}],\"choropleth\":[{\"type\":\"choropleth\",\"colorbar\":{\"outlinewidth\":0,\"ticks\":\"\"}}],\"histogram2d\":[{\"type\":\"histogram2d\",\"colorbar\":{\"outlinewidth\":0,\"ticks\":\"\"},\"colorscale\":[[0.0,\"#0d0887\"],[0.1111111111111111,\"#46039f\"],[0.2222222222222222,\"#7201a8\"],[0.3333333333333333,\"#9c179e\"],[0.4444444444444444,\"#bd3786\"],[0.5555555555555556,\"#d8576b\"],[0.6666666666666666,\"#ed7953\"],[0.7777777777777778,\"#fb9f3a\"],[0.8888888888888888,\"#fdca26\"],[1.0,\"#f0f921\"]]}],\"heatmap\":[{\"type\":\"heatmap\",\"colorbar\":{\"outlinewidth\":0,\"ticks\":\"\"},\"colorscale\":[[0.0,\"#0d0887\"],[0.1111111111111111,\"#46039f\"],[0.2222222222222222,\"#7201a8\"],[0.3333333333333333,\"#9c179e\"],[0.4444444444444444,\"#bd3786\"],[0.5555555555555556,\"#d8576b\"],[0.6666666666666666,\"#ed7953\"],[0.7777777777777778,\"#fb9f3a\"],[0.8888888888888888,\"#fdca26\"],[1.0,\"#f0f921\"]]}],\"heatmapgl\":[{\"type\":\"heatmapgl\",\"colorbar\":{\"outlinewidth\":0,\"ticks\":\"\"},\"colorscale\":[[0.0,\"#0d0887\"],[0.1111111111111111,\"#46039f\"],[0.2222222222222222,\"#7201a8\"],[0.3333333333333333,\"#9c179e\"],[0.4444444444444444,\"#bd3786\"],[0.5555555555555556,\"#d8576b\"],[0.6666666666666666,\"#ed7953\"],[0.7777777777777778,\"#fb9f3a\"],[0.8888888888888888,\"#fdca26\"],[1.0,\"#f0f921\"]]}],\"contourcarpet\":[{\"type\":\"contourcarpet\",\"colorbar\":{\"outlinewidth\":0,\"ticks\":\"\"}}],\"contour\":[{\"type\":\"contour\",\"colorbar\":{\"outlinewidth\":0,\"ticks\":\"\"},\"colorscale\":[[0.0,\"#0d0887\"],[0.1111111111111111,\"#46039f\"],[0.2222222222222222,\"#7201a8\"],[0.3333333333333333,\"#9c179e\"],[0.4444444444444444,\"#bd3786\"],[0.5555555555555556,\"#d8576b\"],[0.6666666666666666,\"#ed7953\"],[0.7777777777777778,\"#fb9f3a\"],[0.8888888888888888,\"#fdca26\"],[1.0,\"#f0f921\"]]}],\"surface\":[{\"type\":\"surface\",\"colorbar\":{\"outlinewidth\":0,\"ticks\":\"\"},\"colorscale\":[[0.0,\"#0d0887\"],[0.1111111111111111,\"#46039f\"],[0.2222222222222222,\"#7201a8\"],[0.3333333333333333,\"#9c179e\"],[0.4444444444444444,\"#bd3786\"],[0.5555555555555556,\"#d8576b\"],[0.6666666666666666,\"#ed7953\"],[0.7777777777777778,\"#fb9f3a\"],[0.8888888888888888,\"#fdca26\"],[1.0,\"#f0f921\"]]}],\"mesh3d\":[{\"type\":\"mesh3d\",\"colorbar\":{\"outlinewidth\":0,\"ticks\":\"\"}}],\"scatter\":[{\"fillpattern\":{\"fillmode\":\"overlay\",\"size\":10,\"solidity\":0.2},\"type\":\"scatter\"}],\"parcoords\":[{\"type\":\"parcoords\",\"line\":{\"colorbar\":{\"outlinewidth\":0,\"ticks\":\"\"}}}],\"scatterpolargl\":[{\"type\":\"scatterpolargl\",\"marker\":{\"colorbar\":{\"outlinewidth\":0,\"ticks\":\"\"}}}],\"bar\":[{\"error_x\":{\"color\":\"#2a3f5f\"},\"error_y\":{\"color\":\"#2a3f5f\"},\"marker\":{\"line\":{\"color\":\"#E5ECF6\",\"width\":0.5},\"pattern\":{\"fillmode\":\"overlay\",\"size\":10,\"solidity\":0.2}},\"type\":\"bar\"}],\"scattergeo\":[{\"type\":\"scattergeo\",\"marker\":{\"colorbar\":{\"outlinewidth\":0,\"ticks\":\"\"}}}],\"scatterpolar\":[{\"type\":\"scatterpolar\",\"marker\":{\"colorbar\":{\"outlinewidth\":0,\"ticks\":\"\"}}}],\"histogram\":[{\"marker\":{\"pattern\":{\"fillmode\":\"overlay\",\"size\":10,\"solidity\":0.2}},\"type\":\"histogram\"}],\"scattergl\":[{\"type\":\"scattergl\",\"marker\":{\"colorbar\":{\"outlinewidth\":0,\"ticks\":\"\"}}}],\"scatter3d\":[{\"type\":\"scatter3d\",\"line\":{\"colorbar\":{\"outlinewidth\":0,\"ticks\":\"\"}},\"marker\":{\"colorbar\":{\"outlinewidth\":0,\"ticks\":\"\"}}}],\"scattermapbox\":[{\"type\":\"scattermapbox\",\"marker\":{\"colorbar\":{\"outlinewidth\":0,\"ticks\":\"\"}}}],\"scatterternary\":[{\"type\":\"scatterternary\",\"marker\":{\"colorbar\":{\"outlinewidth\":0,\"ticks\":\"\"}}}],\"scattercarpet\":[{\"type\":\"scattercarpet\",\"marker\":{\"colorbar\":{\"outlinewidth\":0,\"ticks\":\"\"}}}],\"carpet\":[{\"aaxis\":{\"endlinecolor\":\"#2a3f5f\",\"gridcolor\":\"white\",\"linecolor\":\"white\",\"minorgridcolor\":\"white\",\"startlinecolor\":\"#2a3f5f\"},\"baxis\":{\"endlinecolor\":\"#2a3f5f\",\"gridcolor\":\"white\",\"linecolor\":\"white\",\"minorgridcolor\":\"white\",\"startlinecolor\":\"#2a3f5f\"},\"type\":\"carpet\"}],\"table\":[{\"cells\":{\"fill\":{\"color\":\"#EBF0F8\"},\"line\":{\"color\":\"white\"}},\"header\":{\"fill\":{\"color\":\"#C8D4E3\"},\"line\":{\"color\":\"white\"}},\"type\":\"table\"}],\"barpolar\":[{\"marker\":{\"line\":{\"color\":\"#E5ECF6\",\"width\":0.5},\"pattern\":{\"fillmode\":\"overlay\",\"size\":10,\"solidity\":0.2}},\"type\":\"barpolar\"}],\"pie\":[{\"automargin\":true,\"type\":\"pie\"}]},\"layout\":{\"autotypenumbers\":\"strict\",\"colorway\":[\"#636efa\",\"#EF553B\",\"#00cc96\",\"#ab63fa\",\"#FFA15A\",\"#19d3f3\",\"#FF6692\",\"#B6E880\",\"#FF97FF\",\"#FECB52\"],\"font\":{\"color\":\"#2a3f5f\"},\"hovermode\":\"closest\",\"hoverlabel\":{\"align\":\"left\"},\"paper_bgcolor\":\"white\",\"plot_bgcolor\":\"#E5ECF6\",\"polar\":{\"bgcolor\":\"#E5ECF6\",\"angularaxis\":{\"gridcolor\":\"white\",\"linecolor\":\"white\",\"ticks\":\"\"},\"radialaxis\":{\"gridcolor\":\"white\",\"linecolor\":\"white\",\"ticks\":\"\"}},\"ternary\":{\"bgcolor\":\"#E5ECF6\",\"aaxis\":{\"gridcolor\":\"white\",\"linecolor\":\"white\",\"ticks\":\"\"},\"baxis\":{\"gridcolor\":\"white\",\"linecolor\":\"white\",\"ticks\":\"\"},\"caxis\":{\"gridcolor\":\"white\",\"linecolor\":\"white\",\"ticks\":\"\"}},\"coloraxis\":{\"colorbar\":{\"outlinewidth\":0,\"ticks\":\"\"}},\"colorscale\":{\"sequential\":[[0.0,\"#0d0887\"],[0.1111111111111111,\"#46039f\"],[0.2222222222222222,\"#7201a8\"],[0.3333333333333333,\"#9c179e\"],[0.4444444444444444,\"#bd3786\"],[0.5555555555555556,\"#d8576b\"],[0.6666666666666666,\"#ed7953\"],[0.7777777777777778,\"#fb9f3a\"],[0.8888888888888888,\"#fdca26\"],[1.0,\"#f0f921\"]],\"sequentialminus\":[[0.0,\"#0d0887\"],[0.1111111111111111,\"#46039f\"],[0.2222222222222222,\"#7201a8\"],[0.3333333333333333,\"#9c179e\"],[0.4444444444444444,\"#bd3786\"],[0.5555555555555556,\"#d8576b\"],[0.6666666666666666,\"#ed7953\"],[0.7777777777777778,\"#fb9f3a\"],[0.8888888888888888,\"#fdca26\"],[1.0,\"#f0f921\"]],\"diverging\":[[0,\"#8e0152\"],[0.1,\"#c51b7d\"],[0.2,\"#de77ae\"],[0.3,\"#f1b6da\"],[0.4,\"#fde0ef\"],[0.5,\"#f7f7f7\"],[0.6,\"#e6f5d0\"],[0.7,\"#b8e186\"],[0.8,\"#7fbc41\"],[0.9,\"#4d9221\"],[1,\"#276419\"]]},\"xaxis\":{\"gridcolor\":\"white\",\"linecolor\":\"white\",\"ticks\":\"\",\"title\":{\"standoff\":15},\"zerolinecolor\":\"white\",\"automargin\":true,\"zerolinewidth\":2},\"yaxis\":{\"gridcolor\":\"white\",\"linecolor\":\"white\",\"ticks\":\"\",\"title\":{\"standoff\":15},\"zerolinecolor\":\"white\",\"automargin\":true,\"zerolinewidth\":2},\"scene\":{\"xaxis\":{\"backgroundcolor\":\"#E5ECF6\",\"gridcolor\":\"white\",\"linecolor\":\"white\",\"showbackground\":true,\"ticks\":\"\",\"zerolinecolor\":\"white\",\"gridwidth\":2},\"yaxis\":{\"backgroundcolor\":\"#E5ECF6\",\"gridcolor\":\"white\",\"linecolor\":\"white\",\"showbackground\":true,\"ticks\":\"\",\"zerolinecolor\":\"white\",\"gridwidth\":2},\"zaxis\":{\"backgroundcolor\":\"#E5ECF6\",\"gridcolor\":\"white\",\"linecolor\":\"white\",\"showbackground\":true,\"ticks\":\"\",\"zerolinecolor\":\"white\",\"gridwidth\":2}},\"shapedefaults\":{\"line\":{\"color\":\"#2a3f5f\"}},\"annotationdefaults\":{\"arrowcolor\":\"#2a3f5f\",\"arrowhead\":0,\"arrowwidth\":1},\"geo\":{\"bgcolor\":\"white\",\"landcolor\":\"#E5ECF6\",\"subunitcolor\":\"white\",\"showland\":true,\"showlakes\":true,\"lakecolor\":\"white\"},\"title\":{\"x\":0.05},\"mapbox\":{\"style\":\"light\"}}}},                        {\"responsive\": true}                    ).then(function(){\n",
              "                            \n",
              "var gd = document.getElementById('43ea71e9-63f7-4ad6-b4ae-05833fecc6f5');\n",
              "var x = new MutationObserver(function (mutations, observer) {{\n",
              "        var display = window.getComputedStyle(gd).display;\n",
              "        if (!display || display === 'none') {{\n",
              "            console.log([gd, 'removed!']);\n",
              "            Plotly.purge(gd);\n",
              "            observer.disconnect();\n",
              "        }}\n",
              "}});\n",
              "\n",
              "// Listen for the removal of the full notebook cells\n",
              "var notebookContainer = gd.closest('#notebook-container');\n",
              "if (notebookContainer) {{\n",
              "    x.observe(notebookContainer, {childList: true});\n",
              "}}\n",
              "\n",
              "// Listen for the clearing of the current output cell\n",
              "var outputEl = gd.closest('.output');\n",
              "if (outputEl) {{\n",
              "    x.observe(outputEl, {childList: true});\n",
              "}}\n",
              "\n",
              "                        })                };                            </script>        </div>\n",
              "</body>\n",
              "</html>"
            ]
          },
          "metadata": {}
        }
      ]
    },
    {
      "cell_type": "markdown",
      "source": [
        "## Inception V3\n"
      ],
      "metadata": {
        "id": "7Xa_XrXkClHv"
      }
    },
    {
      "cell_type": "code",
      "source": [
        "from tensorflow.keras.applications import InceptionV3\n",
        "from tensorflow.keras.preprocessing import image\n",
        "from tensorflow.keras.applications.inception_v3 import preprocess_input, decode_predictions\n",
        "import numpy as np\n",
        "\n",
        "from tensorflow.keras import layers\n",
        "\n",
        "\n",
        "NUM_CLASSES = 2\n",
        "IMG_SIZE = 299\n",
        "size = (IMG_SIZE, IMG_SIZE)\n",
        "\n",
        "\n",
        "inputs1 = layers.Input(shape=(IMG_SIZE, IMG_SIZE, 3))\n",
        "\n",
        "\n",
        "# Using model without transfer learning\n",
        "\n",
        "outputs1 = InceptionV3(include_top=True, weights=None, classes=NUM_CLASSES)(inputs1)\n"
      ],
      "metadata": {
        "id": "R1fHLXmNf4KI"
      },
      "execution_count": 63,
      "outputs": []
    },
    {
      "cell_type": "code",
      "source": [
        "im_size = 299\n",
        "\n",
        "images1 = []\n",
        "labels1 = []\n",
        "\n",
        "for i in dataset_path:\n",
        "    data_path = path + str(i)\n",
        "    filenames = [i for i in os.listdir(data_path) ]\n",
        "\n",
        "    for f in filenames:\n",
        "        img = cv2.imread(data_path + '/' + f)\n",
        "        img = cv2.resize(img, (im_size, im_size))\n",
        "        images1.append(img)\n",
        "        labels1.append(i)"
      ],
      "metadata": {
        "id": "DlZr4Q1vJVPL"
      },
      "execution_count": 64,
      "outputs": []
    },
    {
      "cell_type": "code",
      "source": [
        "images1 = np.array(images1)\n",
        "\n",
        "images1 = images1.astype('float32') / 255.0\n",
        "images1.shape"
      ],
      "metadata": {
        "id": "LZg42lFeJfuB",
        "colab": {
          "base_uri": "https://localhost:8080/"
        },
        "outputId": "331df5a0-ba24-475f-e25d-91964f1eea54"
      },
      "execution_count": 65,
      "outputs": [
        {
          "output_type": "execute_result",
          "data": {
            "text/plain": [
              "(1194, 299, 299, 3)"
            ]
          },
          "metadata": {},
          "execution_count": 65
        }
      ]
    },
    {
      "cell_type": "code",
      "source": [
        "from sklearn.utils import shuffle\n",
        "from sklearn.model_selection import train_test_split\n",
        "\n",
        "\n",
        "images1, Y = shuffle(images1, Y, random_state=1)\n",
        "\n",
        "\n",
        "train_x, test_x, train_y, test_y = train_test_split(images1, Y, test_size=0.05, random_state=415)\n",
        "\n",
        "#inpect the shape of the training and testing.\n",
        "print(train_x.shape)\n",
        "print(train_y.shape)\n",
        "print(test_x.shape)\n",
        "print(test_y.shape)"
      ],
      "metadata": {
        "id": "G7ixDd5xKut4",
        "colab": {
          "base_uri": "https://localhost:8080/"
        },
        "outputId": "7155d116-7c61-4d39-d7eb-363767d8d77f"
      },
      "execution_count": 66,
      "outputs": [
        {
          "output_type": "stream",
          "name": "stdout",
          "text": [
            "(1134, 299, 299, 3)\n",
            "(1134, 2)\n",
            "(60, 299, 299, 3)\n",
            "(60, 2)\n"
          ]
        }
      ]
    },
    {
      "cell_type": "code",
      "source": [
        "from keras import optimizers, losses, activations, models\n",
        "model1 = tf.keras.Model(inputs1, outputs1)\n",
        "\n",
        "model1.compile(optimizer=optimizers.SGD(lr=1e-4,\n",
        "                                       momentum=0.9), loss=\"binary_crossentropy\", metrics=[\"accuracy\",\"F1Score\"] )\n",
        "\n",
        "model1.summary()\n",
        "\n",
        "hist1 = model1.fit(train_x, train_y, epochs=50, verbose=1, callbacks=[scheduler])"
      ],
      "metadata": {
        "id": "OPWOsOf2Hwgy",
        "colab": {
          "base_uri": "https://localhost:8080/"
        },
        "outputId": "c4561a2f-d93e-47e8-8d1f-f1d2122c61b8"
      },
      "execution_count": null,
      "outputs": [
        {
          "output_type": "stream",
          "name": "stderr",
          "text": [
            "WARNING:absl:`lr` is deprecated in Keras optimizer, please use `learning_rate` or use the legacy optimizer, e.g.,tf.keras.optimizers.legacy.SGD.\n"
          ]
        },
        {
          "output_type": "stream",
          "name": "stdout",
          "text": [
            "Model: \"model_5\"\n",
            "_________________________________________________________________\n",
            " Layer (type)                Output Shape              Param #   \n",
            "=================================================================\n",
            " input_9 (InputLayer)        [(None, 299, 299, 3)]     0         \n",
            "                                                                 \n",
            " inception_v3 (Functional)   (None, 2)                 21806882  \n",
            "                                                                 \n",
            "=================================================================\n",
            "Total params: 21806882 (83.19 MB)\n",
            "Trainable params: 21772450 (83.06 MB)\n",
            "Non-trainable params: 34432 (134.50 KB)\n",
            "_________________________________________________________________\n"
          ]
        }
      ]
    },
    {
      "cell_type": "code",
      "source": [
        "preds = model1.evaluate(test_x, test_y)\n",
        "print (\"Loss = \" + str(preds[0]))\n",
        "print (\"Test Accuracy = \" + str(preds[1]))"
      ],
      "metadata": {
        "id": "U8FrwJUpO4MC"
      },
      "execution_count": null,
      "outputs": []
    },
    {
      "cell_type": "code",
      "source": [
        "hist1.history\n"
      ],
      "metadata": {
        "id": "fN62_KRPtMd9"
      },
      "execution_count": null,
      "outputs": []
    },
    {
      "cell_type": "markdown",
      "source": [
        "Making F1 Score from scratch since the hist array is giving a combination of precision and recall"
      ],
      "metadata": {
        "id": "pySD0o53YkUw"
      }
    },
    {
      "cell_type": "code",
      "source": [
        "f1= hist1.history['f1_score']\n",
        "f1_scores = []\n",
        "prec_list=[]\n",
        "rec_list=[]\n",
        "for pair in f1:\n",
        "    precision = pair[0]\n",
        "    recall = pair[1]\n",
        "    f1_ = 2 * (precision * recall) / (precision + recall) if (precision + recall) != 0 else 0\n",
        "    f1_scores.append(f1_)\n",
        "    prec_list.append(precision)\n",
        "    rec_list.append(recall)\n",
        "\n",
        "# Convert the list of F1 scores to a NumPy array\n",
        "f1_scores_array = np.array(f1_scores)\n",
        "prec_list= np.array(prec_list)\n",
        "rec_list= np.array(rec_list)\n",
        "print(f1_scores_array)\n",
        "print(prec_list)\n",
        "print(rec_list)"
      ],
      "metadata": {
        "id": "mI6T7mY9WhcL"
      },
      "execution_count": null,
      "outputs": []
    },
    {
      "cell_type": "markdown",
      "source": [
        "Metrics"
      ],
      "metadata": {
        "id": "bvC8KpIScaB-"
      }
    },
    {
      "cell_type": "code",
      "source": [
        "import plotly.graph_objs as go\n",
        "import numpy as np\n",
        "epochs=list(range(1,51))\n",
        "\n",
        "trace_accuracy = go.Scatter(x=epochs, y=hist1.history['accuracy'], mode='lines', name='Accuracy')\n",
        "trace_precision = go.Scatter(x=epochs, y=prec_list, mode='lines', name='Precision')\n",
        "trace_recall = go.Scatter(x=epochs, y=rec_list, mode='lines', name='Recall')\n",
        "trace_f1_score = go.Scatter(x=epochs, y=f1_scores_array, mode='lines', name='F1 Score')\n",
        "\n",
        "layout = go.Layout(\n",
        "    title='Metrics Across Epochs',\n",
        "    xaxis=dict(title='Epochs'),\n",
        "    yaxis=dict(title='Value'),\n",
        ")\n",
        "\n",
        "# Combining traces and layout\n",
        "data = [trace_accuracy, trace_precision, trace_recall, trace_f1_score]\n",
        "fig = go.Figure(data=data, layout=layout)\n",
        "\n",
        "# Displaying the plot\n",
        "fig.show()"
      ],
      "metadata": {
        "id": "8I6r1UDUtSnq"
      },
      "execution_count": null,
      "outputs": []
    }
  ]
}