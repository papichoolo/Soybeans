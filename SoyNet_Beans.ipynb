{
  "nbformat": 4,
  "nbformat_minor": 0,
  "metadata": {
    "colab": {
      "provenance": [],
      "gpuType": "T4",
      "mount_file_id": "1uUSt9WWbZ3aBGGwIaPF-kmo_xd_lo8YS",
      "authorship_tag": "ABX9TyMNk2wFZQQHKCRVdrnWG0kZ",
      "include_colab_link": true
    },
    "kernelspec": {
      "name": "python3",
      "display_name": "Python 3"
    },
    "language_info": {
      "name": "python"
    },
    "accelerator": "GPU"
  },
  "cells": [
    {
      "cell_type": "markdown",
      "metadata": {
        "id": "view-in-github",
        "colab_type": "text"
      },
      "source": [
        "<a href=\"https://colab.research.google.com/github/papichoolo/Soybeans/blob/main/SoyNet_Beans.ipynb\" target=\"_parent\"><img src=\"https://colab.research.google.com/assets/colab-badge.svg\" alt=\"Open In Colab\"/></a>"
      ]
    },
    {
      "cell_type": "markdown",
      "source": [
        "Mounting the dataset from Google Drive and importing libraries"
      ],
      "metadata": {
        "id": "a_DuVmp1MOnq"
      }
    },
    {
      "cell_type": "code",
      "source": [
        "import numpy as np\n",
        "import tensorflow as tf\n",
        "\n",
        "import numpy as np\n",
        "import pandas as pd\n",
        "import matplotlib.pyplot as plt\n",
        "import os\n",
        "\n",
        "dataset_path = os.listdir('/content/drive/MyDrive/Camera Clicks_256_256')\n",
        "\n",
        "print (dataset_path)  #what kinds of classes are in this dataset\n",
        "\n",
        "print(\"Types of classes labels found: \", len(dataset_path))"
      ],
      "metadata": {
        "id": "km7im7Fq5y7A",
        "colab": {
          "base_uri": "https://localhost:8080/"
        },
        "outputId": "f6b28f18-96f6-4d16-bb4f-3d90f88ee13a"
      },
      "execution_count": 4,
      "outputs": [
        {
          "output_type": "stream",
          "name": "stdout",
          "text": [
            "['Disease_Preprocessing data', 'Healthy_Preprocessing data']\n",
            "Types of classes labels found:  2\n"
          ]
        }
      ]
    },
    {
      "cell_type": "code",
      "source": [
        "class_labels = []\n",
        "\n",
        "for item in dataset_path:\n",
        " # Get all the file names\n",
        " all_classes = os.listdir('/content/drive/MyDrive/Camera Clicks_256_256' + '/' +item)\n",
        " print(all_classes)\n",
        "\n",
        " # Add them to the list\n",
        " for room in all_classes:\n",
        "    class_labels.append((item, str('dataset_path' + '/' +item) + '/' + room))"
      ],
      "metadata": {
        "colab": {
          "base_uri": "https://localhost:8080/"
        },
        "id": "R6E9V-cLh7sA",
        "outputId": "a626e589-9bdc-4735-c82d-a00f5077f16b"
      },
      "execution_count": 5,
      "outputs": [
        {
          "output_type": "stream",
          "name": "stdout",
          "text": [
            "['Soy (1060).JPG', 'Soy (106).JPG', 'Soy (1061).JPG', 'Soy (1062).JPG', 'Soy (1064).JPG', 'Soy (1063).JPG', 'Soy (1066).JPG', 'Soy (1065).JPG', 'Soy (1068).JPG', 'Soy (1067).JPG', 'Soy (1069).JPG', 'Soy (1070).JPG', 'Soy (1071).JPG', 'Soy (1072).JPG', 'Soy (1074).JPG', 'Soy (1073).JPG', 'Soy (1075).JPG', 'Soy (1076).JPG', 'Soy (1078).JPG', 'Soy (1077).JPG', 'Soy (1080).JPG', 'Soy (1079).JPG', 'Soy (1082).JPG', 'Soy (1081).JPG', 'Soy (1083).JPG', 'Soy (1084).JPG', 'Soy (1085).JPG', 'Soy (1086).JPG', 'Soy (1087).JPG', 'Soy (1088).JPG', 'Soy (1089).JPG', 'Soy (109).JPG', 'Soy (1090).JPG', 'Soy (1092).JPG', 'Soy (1091).JPG', 'Soy (1094).JPG', 'Soy (1093).JPG', 'Soy (1095).JPG', 'Soy (1096).JPG', 'Soy (1097).JPG', 'Soy (1098).JPG', 'Soy (1099).JPG', 'Soy (110).JPG', 'Soy (11).JPG', 'Soy (1101).JPG', 'Soy (1100).JPG', 'Soy (1102).JPG', 'Soy (1104).JPG', 'Soy (1105).JPG', 'Soy (1106).JPG', 'Soy (1107).JPG', 'Soy (1108).JPG', 'Soy (1109).JPG', 'Soy (111).JPG', 'Soy (1110).JPG', 'Soy (1111).JPG', 'Soy (1112).JPG', 'Soy (1113).JPG', 'Soy (1114).JPG', 'Soy (1116).JPG', 'Soy (1117).JPG', 'Soy (1115).JPG', 'Soy (1119).JPG', 'Soy (112).JPG', 'Soy (1118).JPG', 'Soy (1121).JPG', 'Soy (1122).JPG', 'Soy (1120).JPG', 'Soy (1125).JPG', 'Soy (1124).JPG', 'Soy (1123).JPG', 'Soy (1126).JPG', 'Soy (1127).JPG', 'Soy (113).JPG', 'Soy (1130).JPG', 'Soy (1129).JPG', 'Soy (1128).JPG', 'Soy (1131).JPG', 'Soy (1132).JPG', 'Soy (1133).JPG', 'Soy (1134).JPG', 'Soy (1135).JPG', 'Soy (1137).JPG', 'Soy (1136).JPG', 'Soy (1138).JPG', 'Soy (114).JPG', 'Soy (1141).JPG', 'Soy (1142).JPG', 'Soy (1144).JPG', 'Soy (1145).JPG', 'Soy (1146).JPG', 'Soy (1147).JPG', 'Soy (1148).JPG', 'Soy (1149).JPG', 'Soy (115).JPG', 'Soy (1150).JPG', 'Soy (1151).JPG', 'Soy (1152).JPG', 'Soy (1153).JPG', 'Soy (1154).JPG', 'Soy (1155).JPG', 'Soy (1156).JPG', 'Soy (1157).JPG', 'Soy (1158).JPG', 'Soy (1159).JPG', 'Soy (116).JPG', 'Soy (1160).JPG', 'Soy (1161).JPG', 'Soy (1162).JPG', 'Soy (1163).JPG', 'Soy (1164).JPG', 'Soy (1165).JPG', 'Soy (1166).JPG', 'Soy (1167).JPG', 'Soy (117).JPG', 'Soy (1169).JPG', 'Soy (1170).JPG', 'Soy (1171).JPG', 'Soy (1173).JPG', 'Soy (1172).JPG', 'Soy (1175).JPG', 'Soy (1176).JPG', 'Soy (1178).JPG', 'Soy (1179).JPG', 'Soy (118).JPG', 'Soy (1180).JPG', 'Soy (1181).JPG', 'Soy (1182).JPG', 'Soy (1183).JPG', 'Soy (1184).JPG', 'Soy (1185).JPG', 'Soy (1186).JPG', 'Soy (119).JPG', 'Soy (1190).JPG', 'Soy (1192).JPG', 'Soy (1194).JPG', 'Soy (121).JPG', 'Soy (120).JPG', 'Soy (122).JPG', 'Soy (123).JPG', 'Soy (127).JPG', 'Soy (126).JPG', 'Soy (129).JPG', 'Soy (128).JPG', 'Soy (130).JPG', 'Soy (132).JPG', 'Soy (131).JPG', 'Soy (133).JPG', 'Soy (138).JPG', 'Soy (139).JPG', 'Soy (140).JPG', 'Soy (14).JPG', 'Soy (142).JPG', 'Soy (141).JPG', 'Soy (143).JPG', 'Soy (144).JPG', 'Soy (146).JPG', 'Soy (145).JPG', 'Soy (147).JPG', 'Soy (148).JPG', 'Soy (149).JPG', 'Soy (15).JPG', 'Soy (151).JPG', 'Soy (150).JPG', 'Soy (152).JPG', 'Soy (153).JPG', 'Soy (155).JPG', 'Soy (154).JPG', 'Soy (156).JPG', 'Soy (157).JPG', 'Soy (159).JPG', 'Soy (158).JPG', 'Soy (16).JPG', 'Soy (161).JPG', 'Soy (160).JPG', 'Soy (162).JPG', 'Soy (163).JPG', 'Soy (166).JPG', 'Soy (167).JPG', 'Soy (169).JPG', 'Soy (168).JPG', 'Soy (17).JPG', 'Soy (171).JPG', 'Soy (170).JPG', 'Soy (172).JPG', 'Soy (173).JPG', 'Soy (174).JPG', 'Soy (176).JPG', 'Soy (175).JPG', 'Soy (178).JPG', 'Soy (179).JPG', 'Soy (180).JPG', 'Soy (18).JPG', 'Soy (182).JPG', 'Soy (181).JPG', 'Soy (184).JPG', 'Soy (183).JPG', 'Soy (185).JPG', 'Soy (186).JPG', 'Soy (187).JPG', 'Soy (188).JPG', 'Soy (189).JPG', 'Soy (190).JPG', 'Soy (191).JPG', 'Soy (192).JPG', 'Soy (193).JPG', 'Soy (194).JPG', 'Soy (195).JPG', 'Soy (198).JPG', 'Soy (196).JPG', 'Soy (197).JPG', 'Soy (199).JPG', 'Soy (20).JPG', 'Soy (200).JPG', 'Soy (201).JPG', 'Soy (202).JPG', 'Soy (203).JPG', 'Soy (204).JPG', 'Soy (205).JPG', 'Soy (206).JPG', 'Soy (207).JPG', 'Soy (209).JPG', 'Soy (208).JPG', 'Soy (21).JPG', 'Soy (211).JPG', 'Soy (210).JPG', 'Soy (212).JPG', 'Soy (213).JPG', 'Soy (214).JPG', 'Soy (217).JPG', 'Soy (216).JPG', 'Soy (218).JPG', 'Soy (219).JPG', 'Soy (22).JPG', 'Soy (220).JPG', 'Soy (221).JPG', 'Soy (222).JPG', 'Soy (223).JPG', 'Soy (224).JPG', 'Soy (225).JPG', 'Soy (226).JPG', 'Soy (227).JPG', 'Soy (229).JPG', 'Soy (23).JPG', 'Soy (230).JPG', 'Soy (231).JPG', 'Soy (232).JPG', 'Soy (233).JPG', 'Soy (234).JPG', 'Soy (235).JPG', 'Soy (238).JPG', 'Soy (239).JPG', 'Soy (240).JPG', 'Soy (241).JPG', 'Soy (242).JPG', 'Soy (243).JPG', 'Soy (244).JPG', 'Soy (245).JPG', 'Soy (246).JPG', 'Soy (248).JPG', 'Soy (249).JPG', 'Soy (25).JPG', 'Soy (250).JPG', 'Soy (251).JPG', 'Soy (252).JPG', 'Soy (253).JPG', 'Soy (254).JPG', 'Soy (255).JPG', 'Soy (256).JPG', 'Soy (257).JPG', 'Soy (258).JPG', 'Soy (259).JPG', 'Soy (26).JPG', 'Soy (260).JPG', 'Soy (261).JPG', 'Soy (262).JPG', 'Soy (263).JPG', 'Soy (264).JPG', 'Soy (265).JPG', 'Soy (266).JPG', 'Soy (267).JPG', 'Soy (268).JPG', 'Soy (269).JPG', 'Soy (27).JPG', 'Soy (275).JPG', 'Soy (270).JPG', 'Soy (276).JPG', 'Soy (277).JPG', 'Soy (279).JPG', 'Soy (278).JPG', 'Soy (28).JPG', 'Soy (281).JPG', 'Soy (284).JPG', 'Soy (283).JPG', 'Soy (282).JPG', 'Soy (285).JPG', 'Soy (286).JPG', 'Soy (29).JPG', 'Soy (287).JPG', 'Soy (288).JPG', 'Soy (292).JPG', 'Soy (293).JPG', 'Soy (295).JPG', 'Soy (298).JPG', 'Soy (297).JPG', 'Soy (30).JPG', 'Soy (303).JPG', 'Soy (302).JPG', 'Soy (299).JPG', 'Soy (304).JPG', 'Soy (305).JPG', 'Soy (306).JPG', 'Soy (308).JPG', 'Soy (309).JPG', 'Soy (311).JPG', 'Soy (31).JPG', 'Soy (310).JPG', 'Soy (314).JPG', 'Soy (313).JPG', 'Soy (312).JPG', 'Soy (317).JPG', 'Soy (315).JPG', 'Soy (316).JPG', 'Soy (319).JPG', 'Soy (32).JPG', 'Soy (318).JPG', 'Soy (320).JPG', 'Soy (322).JPG', 'Soy (321).JPG', 'Soy (325).JPG', 'Soy (324).JPG', 'Soy (323).JPG', 'Soy (327).JPG', 'Soy (328).JPG', 'Soy (326).JPG', 'Soy (330).JPG', 'Soy (329).JPG', 'Soy (33).JPG', 'Soy (331).JPG', 'Soy (333).JPG', 'Soy (339).JPG', 'Soy (332).JPG', 'Soy (340).JPG', 'Soy (34).JPG', 'Soy (349).JPG', 'Soy (341).JPG', 'Soy (347).JPG', 'Soy (348).JPG', 'Soy (35).JPG', 'Soy (351).JPG', 'Soy (354).JPG', 'Soy (350).JPG', 'Soy (352).JPG', 'Soy (353).JPG', 'Soy (359).JPG', 'Soy (355).JPG', 'Soy (356).JPG', 'Soy (36).JPG', 'Soy (361).JPG', 'Soy (360).JPG', 'Soy (363).JPG', 'Soy (362).JPG', 'Soy (364).JPG', 'Soy (369).JPG', 'Soy (367).JPG', 'Soy (370).JPG', 'Soy (37).JPG', 'Soy (366).JPG', 'Soy (374).JPG', 'Soy (371).JPG', 'Soy (375).JPG', 'Soy (373).JPG', 'Soy (376).JPG', 'Soy (372).JPG', 'Soy (377).JPG', 'Soy (38).JPG', 'Soy (379).JPG', 'Soy (378).JPG', 'Soy (383).JPG', 'Soy (384).JPG', 'Soy (380).JPG', 'Soy (382).JPG', 'Soy (381).JPG', 'Soy (389).JPG', 'Soy (387).JPG', 'Soy (386).JPG', 'Soy (388).JPG', 'Soy (385).JPG', 'Soy (392).JPG', 'Soy (393).JPG', 'Soy (390).JPG', 'Soy (39).JPG', 'Soy (391).JPG', 'Soy (397).JPG', 'Soy (398).JPG', 'Soy (394).JPG', 'Soy (4).JPG', 'Soy (396).JPG', 'Soy (399).JPG', 'Soy (402).JPG', 'Soy (400).JPG', 'Soy (401).JPG', 'Soy (40).JPG', 'Soy (406).JPG', 'Soy (404).JPG', 'Soy (403).JPG', 'Soy (408).JPG', 'Soy (407).JPG', 'Soy (405).JPG', 'Soy (410).JPG', 'Soy (411).JPG', 'Soy (41).JPG', 'Soy (409).JPG', 'Soy (415).JPG', 'Soy (414).JPG', 'Soy (416).JPG', 'Soy (417).JPG', 'Soy (412).JPG', 'Soy (413).JPG', 'Soy (425).JPG', 'Soy (418).JPG', 'Soy (419).JPG', 'Soy (420).JPG', 'Soy (42).JPG', 'Soy (43).JPG', 'Soy (426).JPG', 'Soy (429).JPG', 'Soy (427).JPG', 'Soy (428).JPG', 'Soy (433).JPG', 'Soy (432).JPG', 'Soy (430).JPG', 'Soy (434).JPG', 'Soy (431).JPG', 'Soy (438).JPG', 'Soy (436).JPG', 'Soy (439).JPG', 'Soy (435).JPG', 'Soy (437).JPG', 'Soy (441).JPG', 'Soy (44).JPG', 'Soy (443).JPG', 'Soy (440).JPG', 'Soy (444).JPG', 'Soy (442).JPG', 'Soy (446).JPG', 'Soy (449).JPG', 'Soy (448).JPG', 'Soy (445).JPG', 'Soy (450).JPG', 'Soy (455).JPG', 'Soy (45).JPG', 'Soy (453).JPG', 'Soy (454).JPG', 'Soy (459).JPG', 'Soy (462).JPG', 'Soy (458).JPG', 'Soy (456).JPG', 'Soy (457).JPG', 'Soy (461).JPG', 'Soy (468).JPG', 'Soy (466).JPG', 'Soy (464).JPG', 'Soy (465).JPG', 'Soy (467).JPG', 'Soy (471).JPG', 'Soy (472).JPG', 'Soy (473).JPG', 'Soy (469).JPG', 'Soy (470).JPG', 'Soy (474).JPG', 'Soy (476).JPG', 'Soy (479).JPG', 'Soy (478).JPG', 'Soy (477).JPG', 'Soy (475).JPG', 'Soy (480).JPG', 'Soy (483).JPG', 'Soy (481).JPG', 'Soy (485).JPG', 'Soy (484).JPG', 'Soy (482).JPG', 'Soy (487).JPG', 'Soy (486).JPG', 'Soy (488).JPG', 'Soy (490).JPG', 'Soy (489).JPG', 'Soy (495).JPG', 'Soy (493).JPG', 'Soy (492).JPG', 'Soy (496).JPG', 'Soy (494).JPG', 'Soy (491).JPG', 'Soy (497).JPG', 'Soy (499).JPG', 'Soy (498).JPG', 'Soy (5).JPG', 'Soy (500).JPG', 'Soy (501).JPG', 'Soy (503).JPG', 'Soy (506).JPG', 'Soy (505).JPG', 'Soy (507).JPG', 'Soy (508).JPG', 'Soy (509).JPG', 'Soy (510).JPG', 'Soy (51).JPG', 'Soy (511).JPG', 'Soy (513).JPG', 'Soy (512).JPG', 'Soy (514).JPG', 'Soy (516).JPG', 'Soy (519).JPG', 'Soy (518).JPG', 'Soy (517).JPG', 'Soy (520).JPG', 'Soy (52).JPG', 'Soy (521).JPG', 'Soy (522).JPG', 'Soy (528).JPG', 'Soy (527).JPG', 'Soy (529).JPG', 'Soy (53).JPG', 'Soy (530).JPG', 'Soy (531).JPG', 'Soy (532).JPG', 'Soy (537).JPG', 'Soy (536).JPG', 'Soy (535).JPG', 'Soy (538).JPG', 'Soy (539).JPG', 'Soy (542).JPG', 'Soy (540).JPG', 'Soy (541).JPG', 'Soy (543).JPG', 'Soy (545).JPG', 'Soy (544).JPG', 'Soy (547).JPG', 'Soy (546).JPG', 'Soy (548).JPG', 'Soy (550).JPG', 'Soy (549).JPG', 'Soy (551).JPG', 'Soy (552).JPG', 'Soy (555).JPG', 'Soy (553).JPG', 'Soy (554).JPG', 'Soy (557).JPG', 'Soy (556).JPG', 'Soy (561).JPG', 'Soy (562).JPG', 'Soy (564).JPG', 'Soy (563).JPG', 'Soy (565).JPG', 'Soy (566).JPG', 'Soy (568).JPG', 'Soy (570).JPG', 'Soy (569).JPG', 'Soy (573).JPG', 'Soy (572).JPG', 'Soy (571).JPG', 'Soy (575).JPG', 'Soy (574).JPG', 'Soy (576).JPG', 'Soy (579).JPG', 'Soy (580).JPG', 'Soy (578).JPG', 'Soy (582).JPG', 'Soy (584).JPG', 'Soy (581).JPG', 'Soy (589).JPG', 'Soy (585).JPG', 'Soy (586).JPG', 'Soy (591).JPG', 'Soy (590).JPG', 'Soy (592).JPG', 'Soy (595).JPG', 'Soy (593).JPG', 'Soy (596).JPG', 'Soy (598).JPG', 'Soy (597).JPG', 'Soy (600).JPG', 'Soy (599).JPG', 'Soy (601).JPG', 'Soy (60).JPG', 'Soy (602).JPG', 'Soy (603).JPG', 'Soy (604).JPG', 'Soy (605).JPG', 'Soy (606).JPG', 'Soy (607).JPG', 'Soy (608).JPG', 'Soy (609).JPG', 'Soy (61).JPG', 'Soy (612).JPG', 'Soy (611).JPG', 'Soy (610).JPG', 'Soy (616).JPG', 'Soy (614).JPG', 'Soy (613).JPG', 'Soy (615).JPG', 'Soy (619).JPG', 'Soy (618).JPG', 'Soy (617).JPG', 'Soy (62).JPG', 'Soy (626).JPG', 'Soy (620).JPG', 'Soy (63).JPG', 'Soy (629).JPG', 'Soy (636).JPG', 'Soy (635).JPG', 'Soy (637).JPG', 'Soy (630).JPG', 'Soy (640).JPG', 'Soy (64).JPG', 'Soy (642).JPG', 'Soy (638).JPG', 'Soy (639).JPG', 'Soy (643).JPG', 'Soy (649).JPG', 'Soy (644).JPG', 'Soy (646).JPG', 'Soy (645).JPG', 'Soy (648).JPG', 'Soy (65).JPG', 'Soy (653).JPG', 'Soy (655).JPG', 'Soy (650).JPG', 'Soy (657).JPG', 'Soy (659).JPG', 'Soy (66).JPG', 'Soy (658).JPG', 'Soy (656).JPG', 'Soy (660).JPG', 'Soy (665).JPG', 'Soy (663).JPG', 'Soy (662).JPG', 'Soy (666).JPG', 'Soy (661).JPG', 'Soy (664).JPG', 'Soy (667).JPG', 'Soy (670).JPG', 'Soy (669).JPG', 'Soy (668).JPG', 'Soy (67).JPG', 'Soy (672).JPG', 'Soy (671).JPG', 'Soy (673).JPG', 'Soy (674).JPG', 'Soy (675).JPG', 'Soy (677).JPG', 'Soy (679).JPG', 'Soy (68).JPG', 'Soy (678).JPG', 'Soy (676).JPG', 'Soy (680).JPG', 'Soy (686).JPG', 'Soy (687).JPG', 'Soy (681).JPG', 'Soy (685).JPG', 'Soy (682).JPG', 'Soy (688).JPG', 'Soy (690).JPG', 'Soy (691).JPG', 'Soy (69).JPG', 'Soy (689).JPG', 'Soy (696).JPG', 'Soy (695).JPG', 'Soy (692).JPG', 'Soy (694).JPG', 'Soy (697).JPG', 'Soy (693).JPG', 'Soy (7).JPG', 'Soy (70).JPG', 'Soy (698).JPG', 'Soy (699).JPG', 'Soy (700).JPG', 'Soy (704).JPG', 'Soy (706).JPG', 'Soy (703).JPG', 'Soy (705).JPG', 'Soy (702).JPG', 'Soy (709).JPG', 'Soy (714).JPG', 'Soy (707).JPG', 'Soy (708).JPG', 'Soy (715).JPG', 'Soy (710).JPG', 'Soy (72).JPG', 'Soy (718).JPG', 'Soy (716).JPG', 'Soy (719).JPG', 'Soy (717).JPG', 'Soy (721).JPG', 'Soy (720).JPG', 'Soy (724).JPG', 'Soy (723).JPG', 'Soy (722).JPG', 'Soy (73).JPG', 'Soy (727).JPG', 'Soy (726).JPG', 'Soy (728).JPG', 'Soy (729).JPG', 'Soy (725).JPG', 'Soy (735).JPG', 'Soy (734).JPG', 'Soy (733).JPG', 'Soy (732).JPG', 'Soy (731).JPG', 'Soy (730).JPG', 'Soy (738).JPG', 'Soy (739).JPG', 'Soy (74).JPG', 'Soy (736).JPG', 'Soy (742).JPG', 'Soy (737).JPG', 'Soy (746).JPG', 'Soy (747).JPG', 'Soy (743).JPG', 'Soy (745).JPG', 'Soy (744).JPG', 'Soy (752).JPG', 'Soy (751).JPG', 'Soy (748).JPG', 'Soy (750).JPG', 'Soy (753).JPG', 'Soy (758).JPG', 'Soy (757).JPG', 'Soy (754).JPG', 'Soy (755).JPG', 'Soy (756).JPG', 'Soy (760).JPG', 'Soy (763).JPG', 'Soy (762).JPG', 'Soy (76).JPG', 'Soy (761).JPG', 'Soy (759).JPG', 'Soy (768).JPG', 'Soy (765).JPG', 'Soy (767).JPG', 'Soy (764).JPG', 'Soy (766).JPG', 'Soy (773).JPG', 'Soy (769).JPG', 'Soy (772).JPG', 'Soy (771).JPG', 'Soy (77).JPG', 'Soy (770).JPG', 'Soy (776).JPG', 'Soy (774).JPG', 'Soy (778).JPG', 'Soy (775).JPG', 'Soy (777).JPG', 'Soy (782).JPG', 'Soy (781).JPG', 'Soy (783).JPG', 'Soy (780).JPG', 'Soy (779).JPG', 'Soy (788).JPG', 'Soy (785).JPG', 'Soy (784).JPG', 'Soy (786).JPG', 'Soy (787).JPG', 'Soy (789).JPG', 'Soy (79).JPG', 'Soy (791).JPG', 'Soy (793).JPG', 'Soy (792).JPG', 'Soy (790).JPG', 'Soy (795).JPG', 'Soy (794).JPG', 'Soy (797).JPG', 'Soy (796).JPG', 'Soy (798).JPG', 'Soy (799).JPG', 'Soy (80).JPG', 'Soy (800).JPG', 'Soy (801).JPG', 'Soy (802).JPG', 'Soy (805).JPG', 'Soy (804).JPG', 'Soy (803).JPG', 'Soy (807).JPG', 'Soy (806).JPG', 'Soy (808).JPG', 'Soy (809).JPG', 'Soy (81).JPG', 'Soy (814).JPG', 'Soy (811).JPG', 'Soy (810).JPG', 'Soy (816).JPG', 'Soy (815).JPG', 'Soy (818).JPG', 'Soy (819).JPG', 'Soy (817).JPG', 'Soy (82).JPG', 'Soy (820).JPG', 'Soy (821).JPG', 'Soy (824).JPG', 'Soy (822).JPG', 'Soy (827).JPG', 'Soy (826).JPG', 'Soy (825).JPG', 'Soy (829).JPG', 'Soy (828).JPG', 'Soy (83).JPG', 'Soy (830).JPG', 'Soy (831).JPG', 'Soy (833).JPG', 'Soy (832).JPG', 'Soy (834).JPG', 'Soy (835).JPG', 'Soy (836).JPG', 'Soy (837).JPG', 'Soy (838).JPG', 'Soy (840).JPG', 'Soy (839).JPG', 'Soy (84).JPG', 'Soy (842).JPG', 'Soy (841).JPG', 'Soy (843).JPG', 'Soy (844).JPG', 'Soy (845).JPG', 'Soy (846).JPG', 'Soy (850).JPG', 'Soy (851).JPG', 'Soy (85).JPG', 'Soy (852).JPG', 'Soy (854).JPG', 'Soy (853).JPG', 'Soy (855).JPG', 'Soy (859).JPG', 'Soy (856).JPG', 'Soy (857).JPG', 'Soy (858).JPG', 'Soy (860).JPG', 'Soy (861).JPG', 'Soy (86).JPG', 'Soy (863).JPG', 'Soy (865).JPG', 'Soy (864).JPG', 'Soy (868).JPG', 'Soy (87).JPG', 'Soy (870).JPG', 'Soy (869).JPG', 'Soy (872).JPG', 'Soy (871).JPG', 'Soy (873).JPG', 'Soy (876).JPG', 'Soy (875).JPG', 'Soy (874).JPG', 'Soy (877).JPG', 'Soy (878).JPG', 'Soy (88).JPG', 'Soy (879).JPG', 'Soy (880).JPG', 'Soy (881).JPG', 'Soy (882).JPG', 'Soy (884).JPG', 'Soy (885).JPG', 'Soy (886).JPG', 'Soy (887).JPG', 'Soy (890).JPG', 'Soy (889).JPG', 'Soy (888).JPG', 'Soy (89).JPG', 'Soy (893).JPG', 'Soy (892).JPG', 'Soy (891).JPG', 'Soy (895).JPG', 'Soy (894).JPG', 'Soy (896).JPG', 'Soy (897).JPG', 'Soy (898).JPG', 'Soy (899).JPG', 'Soy (9).JPG', 'Soy (90).JPG', 'Soy (900).JPG', 'Soy (901).JPG', 'Soy (902).JPG', 'Soy (903).JPG', 'Soy (904).JPG', 'Soy (905).JPG', 'Soy (907).JPG', 'Soy (906).JPG', 'Soy (909).JPG', 'Soy (908).JPG', 'Soy (91).JPG', 'Soy (921).JPG', 'Soy (916).JPG', 'Soy (915).JPG', 'Soy (922).JPG', 'Soy (923).JPG', 'Soy (925).JPG', 'Soy (928).JPG', 'Soy (927).JPG', 'Soy (924).JPG', 'Soy (926).JPG', 'Soy (931).JPG', 'Soy (93).JPG', 'Soy (929).JPG', 'Soy (930).JPG', 'Soy (932).JPG', 'Soy (935).JPG', 'Soy (936).JPG', 'Soy (933).JPG', 'Soy (94).JPG', 'Soy (944).JPG', 'Soy (940).JPG', 'Soy (945).JPG', 'Soy (943).JPG', 'Soy (942).JPG', 'Soy (95).JPG', 'Soy (948).JPG', 'Soy (946).JPG', 'Soy (947).JPG', 'Soy (949).JPG', 'Soy (950).JPG', 'Soy (951).JPG', 'Soy (952).JPG', 'Soy (953).JPG', 'Soy (959).JPG', 'Soy (957).JPG', 'Soy (958).JPG', 'Soy (955).JPG', 'Soy (954).JPG', 'Soy (964).JPG', 'Soy (96).JPG', 'Soy (963).JPG', 'Soy (961).JPG', 'Soy (962).JPG', 'Soy (960).JPG', 'Soy (967).JPG', 'Soy (966).JPG', 'Soy (965).JPG', 'Soy (969).JPG', 'Soy (968).JPG', 'Soy (97).JPG', 'Soy (970).JPG', 'Soy (977).JPG', 'Soy (975).JPG', 'Soy (980).JPG', 'Soy (979).JPG', 'Soy (981).JPG', 'Soy (98).JPG', 'Soy (978).JPG', 'Soy (982).JPG', 'Soy (983).JPG', 'Soy (985).JPG', 'Soy (984).JPG', 'Soy (986).JPG', 'Soy (987).JPG', 'Soy (988).JPG', 'Soy (989).JPG', 'Soy (990).JPG', 'Soy (991).JPG', 'Soy (99).JPG', 'Soy (995).JPG', 'Soy (997).JPG', 'Soy (993).JPG', 'Soy (994).JPG', 'Soy (996).JPG', 'Soy (998).JPG', 'Soy (999).JPG', 'Soy (19).JPG', 'Soy (24).JPG', 'Soy (75).JPG', 'Soy (92).JPG', 'Soy (177).JPG', 'Soy (294).JPG', 'Soy (307).JPG', 'Soy (215).JPG', 'Soy (447).JPG', 'Soy (463).JPG', 'Soy (502).JPG', 'Soy (504).JPG', 'Soy (594).JPG', 'Soy (628).JPG', 'Soy (627).JPG', 'Soy (651).JPG', 'Soy (652).JPG', 'Soy (883).JPG', 'Soy (938).JPG', 'Soy (937).JPG', 'Soy (939).JPG', 'Soy (956).JPG', 'Soy (971).JPG', 'Soy (974).JPG', 'Soy (992).JPG', 'Soy (1000).JPG', 'Soy (1017).JPG', 'Soy (1050).JPG', 'Soy (1103).JPG', 'Soy (1174).JPG', 'Soy (1177).JPG', 'Soy (1189).JPG', 'Soy (1188).JPG', 'Soy (1187).JPG', 'Soy (1191).JPG', 'Soy (1193).JPG', 'Soy (1).JPG', 'Soy (100).JPG', 'Soy (10).JPG', 'Soy (1001).JPG', 'Soy (1009).JPG', 'Soy (101).JPG', 'Soy (1011).JPG', 'Soy (1013).JPG', 'Soy (1014).JPG', 'Soy (1015).JPG', 'Soy (1016).JPG', 'Soy (1019).JPG', 'Soy (1018).JPG', 'Soy (1020).JPG', 'Soy (102).JPG', 'Soy (1021).JPG', 'Soy (1023).JPG', 'Soy (1022).JPG', 'Soy (1025).JPG', 'Soy (1024).JPG', 'Soy (1026).JPG', 'Soy (1027).JPG', 'Soy (1028).JPG', 'Soy (1029).JPG', 'Soy (1030).JPG', 'Soy (103).JPG', 'Soy (1032).JPG', 'Soy (1031).JPG', 'Soy (1034).JPG', 'Soy (1033).JPG', 'Soy (1035).JPG', 'Soy (1038).JPG', 'Soy (1036).JPG', 'Soy (1039).JPG', 'Soy (104).JPG', 'Soy (1041).JPG', 'Soy (1040).JPG', 'Soy (1043).JPG', 'Soy (1042).JPG', 'Soy (1045).JPG', 'Soy (1044).JPG', 'Soy (1047).JPG', 'Soy (1046).JPG', 'Soy (1049).JPG', 'Soy (1048).JPG', 'Soy (105).JPG', 'Soy (1052).JPG', 'Soy (1051).JPG', 'Soy (1054).JPG', 'Soy (1053).JPG', 'Soy (1055).JPG', 'Soy (1056).JPG', 'Soy (1057).JPG', 'Soy (1059).JPG', 'Soy (1058).JPG']\n",
            "['Soy (1002).JPG', 'Soy (1006).JPG', 'Soy (1004).JPG', 'Soy (1007).JPG', 'Soy (107).JPG', 'Soy (1010).JPG', 'Soy (1012).JPG', 'Soy (1008).JPG', 'Soy (1037).JPG', 'Soy (1140).JPG', 'Soy (108).JPG', 'Soy (1168).JPG', 'Soy (124).JPG', 'Soy (12).JPG', 'Soy (125).JPG', 'Soy (13).JPG', 'Soy (137).JPG', 'Soy (134).JPG', 'Soy (165).JPG', 'Soy (136).JPG', 'Soy (135).JPG', 'Soy (164).JPG', 'Soy (2).JPG', 'Soy (228).JPG', 'Soy (236).JPG', 'Soy (237).JPG', 'Soy (247).JPG', 'Soy (273).JPG', 'Soy (272).JPG', 'Soy (271).JPG', 'Soy (274).JPG', 'Soy (289).JPG', 'Soy (280).JPG', 'Soy (290).JPG', 'Soy (3).JPG', 'Soy (296).JPG', 'Soy (291).JPG', 'Soy (300).JPG', 'Soy (301).JPG', 'Soy (334).JPG', 'Soy (335).JPG', 'Soy (337).JPG', 'Soy (336).JPG', 'Soy (343).JPG', 'Soy (338).JPG', 'Soy (342).JPG', 'Soy (365).JPG', 'Soy (357).JPG', 'Soy (344).JPG', 'Soy (345).JPG', 'Soy (346).JPG', 'Soy (358).JPG', 'Soy (422).JPG', 'Soy (421).JPG', 'Soy (368).JPG', 'Soy (423).JPG', 'Soy (395).JPG', 'Soy (451).JPG', 'Soy (46).JPG', 'Soy (452).JPG', 'Soy (424).JPG', 'Soy (49).JPG', 'Soy (460).JPG', 'Soy (48).JPG', 'Soy (50).JPG', 'Soy (515).JPG', 'Soy (525).JPG', 'Soy (523).JPG', 'Soy (524).JPG', 'Soy (533).JPG', 'Soy (526).JPG', 'Soy (55).JPG', 'Soy (534).JPG', 'Soy (54).JPG', 'Soy (559).JPG', 'Soy (560).JPG', 'Soy (558).JPG', 'Soy (57).JPG', 'Soy (567).JPG', 'Soy (58).JPG', 'Soy (583).JPG', 'Soy (577).JPG', 'Soy (587).JPG', 'Soy (588).JPG', 'Soy (6).JPG', 'Soy (59).JPG', 'Soy (623).JPG', 'Soy (622).JPG', 'Soy (621).JPG', 'Soy (624).JPG', 'Soy (631).JPG', 'Soy (625).JPG', 'Soy (632).JPG', 'Soy (633).JPG', 'Soy (641).JPG', 'Soy (684).JPG', 'Soy (654).JPG', 'Soy (683).JPG', 'Soy (647).JPG', 'Soy (634).JPG', 'Soy (71).JPG', 'Soy (740).JPG', 'Soy (711).JPG', 'Soy (713).JPG', 'Soy (701).JPG', 'Soy (741).JPG', 'Soy (749).JPG', 'Soy (78).JPG', 'Soy (8).JPG', 'Soy (812).JPG', 'Soy (813).JPG', 'Soy (848).JPG', 'Soy (823).JPG', 'Soy (847).JPG', 'Soy (866).JPG', 'Soy (862).JPG', 'Soy (849).JPG', 'Soy (867).JPG', 'Soy (910).JPG', 'Soy (913).JPG', 'Soy (912).JPG', 'Soy (914).JPG', 'Soy (919).JPG', 'Soy (920).JPG', 'Soy (917).JPG', 'Soy (941).JPG', 'Soy (934).JPG', 'Soy (972).JPG', 'Soy (1139).JPG', 'Soy (1143).JPG', 'Soy (973).JPG', 'Soy (976).JPG', 'Soy (1003).JPG', 'Soy (1005).JPG', 'Soy (918).JPG', 'Soy (712).JPG', 'Soy (911).JPG', 'Soy (56).JPG', 'Soy (47).JPG']\n"
          ]
        }
      ]
    },
    {
      "cell_type": "markdown",
      "source": [
        "Creating a dataframe of Images and labels"
      ],
      "metadata": {
        "id": "fypFHyGpOKHO"
      }
    },
    {
      "cell_type": "code",
      "source": [
        "df = pd.DataFrame(data=class_labels, columns=['Labels', 'image'])\n",
        "print(df.head())\n",
        "print(df.tail())"
      ],
      "metadata": {
        "colab": {
          "base_uri": "https://localhost:8080/"
        },
        "id": "bnAslGfsiLli",
        "outputId": "c0421fea-5e25-4838-e9a7-3d171c92f4e3"
      },
      "execution_count": 6,
      "outputs": [
        {
          "output_type": "stream",
          "name": "stdout",
          "text": [
            "                       Labels  \\\n",
            "0  Disease_Preprocessing data   \n",
            "1  Disease_Preprocessing data   \n",
            "2  Disease_Preprocessing data   \n",
            "3  Disease_Preprocessing data   \n",
            "4  Disease_Preprocessing data   \n",
            "\n",
            "                                               image  \n",
            "0  dataset_path/Disease_Preprocessing data/Soy (1...  \n",
            "1  dataset_path/Disease_Preprocessing data/Soy (1...  \n",
            "2  dataset_path/Disease_Preprocessing data/Soy (1...  \n",
            "3  dataset_path/Disease_Preprocessing data/Soy (1...  \n",
            "4  dataset_path/Disease_Preprocessing data/Soy (1...  \n",
            "                          Labels  \\\n",
            "1189  Healthy_Preprocessing data   \n",
            "1190  Healthy_Preprocessing data   \n",
            "1191  Healthy_Preprocessing data   \n",
            "1192  Healthy_Preprocessing data   \n",
            "1193  Healthy_Preprocessing data   \n",
            "\n",
            "                                                  image  \n",
            "1189  dataset_path/Healthy_Preprocessing data/Soy (9...  \n",
            "1190  dataset_path/Healthy_Preprocessing data/Soy (7...  \n",
            "1191  dataset_path/Healthy_Preprocessing data/Soy (9...  \n",
            "1192  dataset_path/Healthy_Preprocessing data/Soy (5...  \n",
            "1193  dataset_path/Healthy_Preprocessing data/Soy (4...  \n"
          ]
        }
      ]
    },
    {
      "cell_type": "code",
      "source": [
        "print(\"Total number of images in the dataset: \", len(df))\n",
        "\n",
        "label_count = df['Labels'].value_counts()\n",
        "print(label_count)"
      ],
      "metadata": {
        "colab": {
          "base_uri": "https://localhost:8080/"
        },
        "id": "HM-Jjj8aiODN",
        "outputId": "543b31ea-a85d-4c77-cd21-d76e61cd820f"
      },
      "execution_count": 7,
      "outputs": [
        {
          "output_type": "stream",
          "name": "stdout",
          "text": [
            "Total number of images in the dataset:  1194\n",
            "Disease_Preprocessing data    1055\n",
            "Healthy_Preprocessing data     139\n",
            "Name: Labels, dtype: int64\n"
          ]
        }
      ]
    },
    {
      "cell_type": "markdown",
      "source": [
        "Reading the Image and Resizing it to 224 x 224"
      ],
      "metadata": {
        "id": "RkMkDJX0OYFn"
      }
    },
    {
      "cell_type": "code",
      "source": [
        "import cv2\n",
        "path = '/content/drive/MyDrive/Camera Clicks_256_256/'\n",
        "dataset_path = os.listdir('/content/drive/MyDrive/Camera Clicks_256_256')\n",
        "\n",
        "im_size = 224\n",
        "\n",
        "images = []\n",
        "labels = []\n",
        "\n",
        "for i in dataset_path:\n",
        "    data_path = path + str(i)\n",
        "    filenames = [i for i in os.listdir(data_path) ]\n",
        "\n",
        "    for f in filenames:\n",
        "        img = cv2.imread(data_path + '/' + f)\n",
        "        img = cv2.resize(img, (im_size, im_size))\n",
        "        images.append(img)\n",
        "        labels.append(i)"
      ],
      "metadata": {
        "id": "sWKVm--BinPB"
      },
      "execution_count": 8,
      "outputs": []
    },
    {
      "cell_type": "code",
      "source": [
        "images = np.array(images)\n",
        "\n",
        "images = images.astype('float32') / 255.0\n",
        "images.shape"
      ],
      "metadata": {
        "colab": {
          "base_uri": "https://localhost:8080/"
        },
        "id": "bMMwBhs_jQwv",
        "outputId": "86584f9e-3fca-4a9d-b336-cbb44e3a61bb"
      },
      "execution_count": 9,
      "outputs": [
        {
          "output_type": "execute_result",
          "data": {
            "text/plain": [
              "(1194, 224, 224, 3)"
            ]
          },
          "metadata": {},
          "execution_count": 9
        }
      ]
    },
    {
      "cell_type": "markdown",
      "source": [
        "Encoding labels"
      ],
      "metadata": {
        "id": "EY4MwlkCOn5j"
      }
    },
    {
      "cell_type": "code",
      "source": [
        "from sklearn.preprocessing import LabelEncoder , OneHotEncoder\n",
        "y=df['Labels'].values\n",
        "print(y)\n",
        "\n",
        "y_labelencoder = LabelEncoder ()\n",
        "y = y_labelencoder.fit_transform (y)\n",
        "print (y)"
      ],
      "metadata": {
        "colab": {
          "base_uri": "https://localhost:8080/"
        },
        "id": "VvJPP-nbjc7W",
        "outputId": "6d98065a-e397-4d60-dc72-f405b0842901"
      },
      "execution_count": 10,
      "outputs": [
        {
          "output_type": "stream",
          "name": "stdout",
          "text": [
            "['Disease_Preprocessing data' 'Disease_Preprocessing data'\n",
            " 'Disease_Preprocessing data' ... 'Healthy_Preprocessing data'\n",
            " 'Healthy_Preprocessing data' 'Healthy_Preprocessing data']\n",
            "[0 0 0 ... 1 1 1]\n"
          ]
        }
      ]
    },
    {
      "cell_type": "code",
      "source": [
        "y=y.reshape(-1,1)\n",
        "\n",
        "from sklearn.compose import ColumnTransformer\n",
        "ct = ColumnTransformer([('my_ohe', OneHotEncoder(), [0])], remainder='passthrough')\n",
        "Y = ct.fit_transform(y) #.toarray()\n",
        "print(Y[:5])\n",
        "print(Y[35:])"
      ],
      "metadata": {
        "colab": {
          "base_uri": "https://localhost:8080/"
        },
        "id": "NiE2WayjjeJC",
        "outputId": "d90a33ed-f855-4730-fcca-dc022f9030f4"
      },
      "execution_count": 11,
      "outputs": [
        {
          "output_type": "stream",
          "name": "stdout",
          "text": [
            "[[1. 0.]\n",
            " [1. 0.]\n",
            " [1. 0.]\n",
            " [1. 0.]\n",
            " [1. 0.]]\n",
            "[[1. 0.]\n",
            " [1. 0.]\n",
            " [1. 0.]\n",
            " ...\n",
            " [0. 1.]\n",
            " [0. 1.]\n",
            " [0. 1.]]\n"
          ]
        }
      ]
    },
    {
      "cell_type": "code",
      "source": [
        "from sklearn.utils import shuffle\n",
        "from sklearn.model_selection import train_test_split\n",
        "\n",
        "\n",
        "images, y = shuffle(images, Y, random_state=1)\n",
        "\n",
        "\n",
        "train_x, test_x, train_y, test_y = train_test_split(images, y, test_size=0.05, random_state=415)\n",
        "\n",
        "#inpect the shape of the training and testing.\n",
        "print(train_x.shape)\n",
        "print(train_y.shape)\n",
        "print(test_x.shape)\n",
        "print(test_y.shape)"
      ],
      "metadata": {
        "colab": {
          "base_uri": "https://localhost:8080/"
        },
        "id": "gYgKOPRyjlPN",
        "outputId": "aa373d05-e67e-484e-9f94-e18760013231"
      },
      "execution_count": 12,
      "outputs": [
        {
          "output_type": "stream",
          "name": "stdout",
          "text": [
            "(1134, 224, 224, 3)\n",
            "(1134, 2)\n",
            "(60, 224, 224, 3)\n",
            "(60, 2)\n"
          ]
        }
      ]
    },
    {
      "cell_type": "markdown",
      "source": [
        "Using EfficientNetB0"
      ],
      "metadata": {
        "id": "5xO2IzOwOu8e"
      }
    },
    {
      "cell_type": "code",
      "source": [
        "from tensorflow.keras import layers\n",
        "from tensorflow.keras.applications import EfficientNetB0\n",
        "\n",
        "NUM_CLASSES = 2\n",
        "IMG_SIZE = 224\n",
        "size = (IMG_SIZE, IMG_SIZE)\n",
        "\n",
        "\n",
        "inputs = layers.Input(shape=(IMG_SIZE, IMG_SIZE, 3))\n",
        "\n",
        "\n",
        "# Using model without transfer learning\n",
        "\n",
        "outputs = EfficientNetB0(include_top=True, weights=None, classes=NUM_CLASSES)(inputs)"
      ],
      "metadata": {
        "id": "-vvAv9W8jzTW"
      },
      "execution_count": 13,
      "outputs": []
    },
    {
      "cell_type": "code",
      "source": [
        "model = tf.keras.Model(inputs, outputs)\n",
        "\n",
        "model.compile(optimizer=\"adam\", loss=\"categorical_crossentropy\", metrics=[\"accuracy\",\"F1Score\",\"Precision\",\"Recall\"] )\n",
        "\n",
        "model.summary()\n",
        "\n",
        "hist = model.fit(train_x, train_y, epochs=5, verbose=2)"
      ],
      "metadata": {
        "colab": {
          "base_uri": "https://localhost:8080/"
        },
        "id": "yKzAq-oEj4Ne",
        "outputId": "d80af2f7-ae57-4f21-b8b6-afc215f284b5"
      },
      "execution_count": 14,
      "outputs": [
        {
          "output_type": "stream",
          "name": "stdout",
          "text": [
            "Model: \"model\"\n",
            "_________________________________________________________________\n",
            " Layer (type)                Output Shape              Param #   \n",
            "=================================================================\n",
            " input_3 (InputLayer)        [(None, 224, 224, 3)]     0         \n",
            "                                                                 \n",
            " efficientnetb0 (Functional  (None, 2)                 4052133   \n",
            " )                                                               \n",
            "                                                                 \n",
            "=================================================================\n",
            "Total params: 4052133 (15.46 MB)\n",
            "Trainable params: 4010110 (15.30 MB)\n",
            "Non-trainable params: 42023 (164.16 KB)\n",
            "_________________________________________________________________\n",
            "Epoch 1/5\n",
            "36/36 - 58s - loss: 1.1680 - accuracy: 0.7646 - f1_score: 0.5414 - precision: 0.7646 - recall: 0.7646 - 58s/epoch - 2s/step\n",
            "Epoch 2/5\n",
            "36/36 - 10s - loss: 0.4384 - accuracy: 0.8651 - f1_score: 0.6226 - precision: 0.8651 - recall: 0.8651 - 10s/epoch - 268ms/step\n",
            "Epoch 3/5\n",
            "36/36 - 10s - loss: 0.3416 - accuracy: 0.8907 - f1_score: 0.6953 - precision: 0.8907 - recall: 0.8907 - 10s/epoch - 271ms/step\n",
            "Epoch 4/5\n",
            "36/36 - 9s - loss: 0.2923 - accuracy: 0.8924 - f1_score: 0.6954 - precision: 0.8924 - recall: 0.8924 - 9s/epoch - 256ms/step\n",
            "Epoch 5/5\n",
            "36/36 - 9s - loss: 0.2551 - accuracy: 0.9039 - f1_score: 0.7432 - precision: 0.9039 - recall: 0.9039 - 9s/epoch - 259ms/step\n"
          ]
        }
      ]
    },
    {
      "cell_type": "code",
      "source": [
        "preds = model.evaluate(test_x, test_y)\n",
        "print (\"Loss = \" + str(preds[0]))\n",
        "print (\"Test Accuracy = \" + str(preds[1]))"
      ],
      "metadata": {
        "colab": {
          "base_uri": "https://localhost:8080/"
        },
        "id": "YVEQFAHooa3_",
        "outputId": "3c789498-8d17-480e-c0aa-a2e75aafaa15"
      },
      "execution_count": 15,
      "outputs": [
        {
          "output_type": "stream",
          "name": "stdout",
          "text": [
            "2/2 [==============================] - 4s 901ms/step - loss: 0.4594 - accuracy: 0.8500 - f1_score: 0.4595 - precision: 0.8500 - recall: 0.8500\n",
            "Loss = 0.45935899019241333\n",
            "Test Accuracy = 0.8500000238418579\n"
          ]
        }
      ]
    },
    {
      "cell_type": "code",
      "source": [
        "hist.history[\"precision\"]"
      ],
      "metadata": {
        "colab": {
          "base_uri": "https://localhost:8080/"
        },
        "id": "d6HflOIgUA-Q",
        "outputId": "9a415ffa-6830-49e5-83d5-10716f6f76e3"
      },
      "execution_count": 16,
      "outputs": [
        {
          "output_type": "execute_result",
          "data": {
            "text/plain": [
              "[0.7645502686500549,\n",
              " 0.8650793433189392,\n",
              " 0.8906525373458862,\n",
              " 0.89241623878479,\n",
              " 0.9038800597190857]"
            ]
          },
          "metadata": {},
          "execution_count": 16
        }
      ]
    },
    {
      "cell_type": "code",
      "source": [
        "hist.history[\"recall\"]\n"
      ],
      "metadata": {
        "colab": {
          "base_uri": "https://localhost:8080/"
        },
        "id": "qw9z48YTUT98",
        "outputId": "0e37ecd9-1ff5-4b89-fc31-3b911bc71cca"
      },
      "execution_count": 17,
      "outputs": [
        {
          "output_type": "execute_result",
          "data": {
            "text/plain": [
              "[0.7645502686500549,\n",
              " 0.8650793433189392,\n",
              " 0.8906525373458862,\n",
              " 0.89241623878479,\n",
              " 0.9038800597190857]"
            ]
          },
          "metadata": {},
          "execution_count": 17
        }
      ]
    },
    {
      "cell_type": "code",
      "source": [
        "# Plot the F1 score\n",
        "plt.figure(figsize=(8, 6))\n",
        "plt.plot(hist.history[\"precision\"])\n",
        "plt.title('Precision')\n",
        "plt.ylabel('Precision')\n",
        "\n",
        "\n",
        "plt.show()"
      ],
      "metadata": {
        "colab": {
          "base_uri": "https://localhost:8080/",
          "height": 545
        },
        "id": "Ne6vgSv373nM",
        "outputId": "0f85f0a1-eab5-4da9-b905-55f5cc462327"
      },
      "execution_count": 18,
      "outputs": [
        {
          "output_type": "display_data",
          "data": {
            "text/plain": [
              "<Figure size 800x600 with 1 Axes>"
            ],
            "image/png": "[encoded data removed]"
          },
          "metadata": {}
        }
      ]
    },
    {
      "cell_type": "code",
      "source": [
        "plt.plot(hist.history[\"recall\"])\n",
        "plt.title('Recall')\n",
        "plt.ylabel('Recall')"
      ],
      "metadata": {
        "colab": {
          "base_uri": "https://localhost:8080/",
          "height": 469
        },
        "id": "RLT7gOYIT4TN",
        "outputId": "716d649b-2945-406d-c5bb-5f513511a460"
      },
      "execution_count": 19,
      "outputs": [
        {
          "output_type": "execute_result",
          "data": {
            "text/plain": [
              "Text(0, 0.5, 'Recall')"
            ]
          },
          "metadata": {},
          "execution_count": 19
        },
        {
          "output_type": "display_data",
          "data": {
            "text/plain": [
              "<Figure size 640x480 with 1 Axes>"
            ],
            "image/png": "[encoded data removed]"
          },
          "metadata": {}
        }
      ]
    },
    {
      "cell_type": "code",
      "source": [
        "import matplotlib.pyplot as plt\n",
        "\n",
        "\n",
        "def plot_hist(hist):\n",
        "    plt.figure(1)\n",
        "    plt.plot(hist.history[\"accuracy\"])\n",
        "    #plt.plot(hist.history[\"val_accuracy\"])\n",
        "    plt.title(\"model accuracy\")\n",
        "    plt.ylabel(\"accuracy\")\n",
        "    plt.xlabel(\"epoch\")\n",
        "    plt.legend([\"train\", \"validation\"], loc=\"upper left\")\n",
        "\n",
        "    plt.figure(2)\n",
        "    plt.plot(hist.history[\"f1_score\"])\n",
        "    plt.show()\n",
        "\n",
        "\n",
        "plot_hist(hist)"
      ],
      "metadata": {
        "id": "bpXd_EoTVYiG",
        "colab": {
          "base_uri": "https://localhost:8080/",
          "height": 885
        },
        "outputId": "26b3b9e1-e8ba-4dd2-d09d-8e13449ab597"
      },
      "execution_count": 20,
      "outputs": [
        {
          "output_type": "display_data",
          "data": {
            "text/plain": [
              "<Figure size 640x480 with 1 Axes>"
            ],
            "image/png": "[encoded data removed]"
          },
          "metadata": {}
        },
        {
          "output_type": "display_data",
          "data": {
            "text/plain": [
              "<Figure size 640x480 with 1 Axes>"
            ],
            "image/png": "[encoded data removed]"
          },
          "metadata": {}
        }
      ]
    },
    {
      "cell_type": "markdown",
      "source": [
        "TAKING UNSEEN SOYABEAN LEAF IMAGE\n"
      ],
      "metadata": {
        "id": "XIapBYaQGPVT"
      }
    },
    {
      "cell_type": "code",
      "source": [
        "import cv2\n",
        "from matplotlib.pyplot import imread\n",
        "from matplotlib.pyplot import imshow\n",
        "from tensorflow.keras.preprocessing import image\n",
        "from tensorflow.keras.applications.imagenet_utils import decode_predictions\n",
        "from tensorflow.keras.applications.imagenet_utils import preprocess_input\n",
        "\n",
        "\n",
        "img_path = '/content/download (13).jpeg'\n",
        "\n",
        "#img = image.load_img(img_path, target_size=(224, 224))\n",
        "#x = img.img_to_array(img)\n",
        "\n",
        "img = cv2.imread(img_path)\n",
        "img = cv2.resize(img, (224, 224))\n",
        "\n",
        "x = np.expand_dims(img, axis=0)\n",
        "x = preprocess_input(x)\n",
        "\n",
        "print('Input image shape:', x.shape)\n",
        "\n",
        "my_image = imread(img_path)\n",
        "imshow(my_image)"
      ],
      "metadata": {
        "id": "bl65qonEDtmQ",
        "colab": {
          "base_uri": "https://localhost:8080/",
          "height": 262
        },
        "outputId": "f5891b9c-3dbb-4a02-8a58-b6aedd963757"
      },
      "execution_count": 21,
      "outputs": [
        {
          "output_type": "error",
          "ename": "error",
          "evalue": "ignored",
          "traceback": [
            "\u001b[0;31m---------------------------------------------------------------------------\u001b[0m",
            "\u001b[0;31merror\u001b[0m                                     Traceback (most recent call last)",
            "\u001b[0;32m<ipython-input-21-2cc5f9caac90>\u001b[0m in \u001b[0;36m<cell line: 15>\u001b[0;34m()\u001b[0m\n\u001b[1;32m     13\u001b[0m \u001b[0;34m\u001b[0m\u001b[0m\n\u001b[1;32m     14\u001b[0m \u001b[0mimg\u001b[0m \u001b[0;34m=\u001b[0m \u001b[0mcv2\u001b[0m\u001b[0;34m.\u001b[0m\u001b[0mimread\u001b[0m\u001b[0;34m(\u001b[0m\u001b[0mimg_path\u001b[0m\u001b[0;34m)\u001b[0m\u001b[0;34m\u001b[0m\u001b[0;34m\u001b[0m\u001b[0m\n\u001b[0;32m---> 15\u001b[0;31m \u001b[0mimg\u001b[0m \u001b[0;34m=\u001b[0m \u001b[0mcv2\u001b[0m\u001b[0;34m.\u001b[0m\u001b[0mresize\u001b[0m\u001b[0;34m(\u001b[0m\u001b[0mimg\u001b[0m\u001b[0;34m,\u001b[0m \u001b[0;34m(\u001b[0m\u001b[0;36m224\u001b[0m\u001b[0;34m,\u001b[0m \u001b[0;36m224\u001b[0m\u001b[0;34m)\u001b[0m\u001b[0;34m)\u001b[0m\u001b[0;34m\u001b[0m\u001b[0;34m\u001b[0m\u001b[0m\n\u001b[0m\u001b[1;32m     16\u001b[0m \u001b[0;34m\u001b[0m\u001b[0m\n\u001b[1;32m     17\u001b[0m \u001b[0mx\u001b[0m \u001b[0;34m=\u001b[0m \u001b[0mnp\u001b[0m\u001b[0;34m.\u001b[0m\u001b[0mexpand_dims\u001b[0m\u001b[0;34m(\u001b[0m\u001b[0mimg\u001b[0m\u001b[0;34m,\u001b[0m \u001b[0maxis\u001b[0m\u001b[0;34m=\u001b[0m\u001b[0;36m0\u001b[0m\u001b[0;34m)\u001b[0m\u001b[0;34m\u001b[0m\u001b[0;34m\u001b[0m\u001b[0m\n",
            "\u001b[0;31merror\u001b[0m: OpenCV(4.8.0) /io/opencv/modules/imgproc/src/resize.cpp:4062: error: (-215:Assertion failed) !ssize.empty() in function 'resize'\n"
          ]
        }
      ]
    },
    {
      "cell_type": "code",
      "source": [
        "preds=model.predict(x)\n",
        "preds     # probabilities for being in each of the 2 classes"
      ],
      "metadata": {
        "id": "moUYW1HFGMxK",
        "colab": {
          "base_uri": "https://localhost:8080/",
          "height": 192
        },
        "outputId": "3b2f53bc-8f66-42e7-d2f9-89fa031db008"
      },
      "execution_count": 22,
      "outputs": [
        {
          "output_type": "error",
          "ename": "NameError",
          "evalue": "ignored",
          "traceback": [
            "\u001b[0;31m---------------------------------------------------------------------------\u001b[0m",
            "\u001b[0;31mNameError\u001b[0m                                 Traceback (most recent call last)",
            "\u001b[0;32m<ipython-input-22-b5eabc48f80b>\u001b[0m in \u001b[0;36m<cell line: 1>\u001b[0;34m()\u001b[0m\n\u001b[0;32m----> 1\u001b[0;31m \u001b[0mpreds\u001b[0m\u001b[0;34m=\u001b[0m\u001b[0mmodel\u001b[0m\u001b[0;34m.\u001b[0m\u001b[0mpredict\u001b[0m\u001b[0;34m(\u001b[0m\u001b[0mx\u001b[0m\u001b[0;34m)\u001b[0m\u001b[0;34m\u001b[0m\u001b[0;34m\u001b[0m\u001b[0m\n\u001b[0m\u001b[1;32m      2\u001b[0m \u001b[0mpreds\u001b[0m     \u001b[0;31m# probabilities for being in each of the 2 classes\u001b[0m\u001b[0;34m\u001b[0m\u001b[0;34m\u001b[0m\u001b[0m\n",
            "\u001b[0;31mNameError\u001b[0m: name 'x' is not defined"
          ]
        }
      ]
    },
    {
      "cell_type": "markdown",
      "source": [
        "It predicts diseased leaf, which is correct."
      ],
      "metadata": {
        "id": "Z3QIAAi3GmDu"
      }
    },
    {
      "cell_type": "markdown",
      "source": [
        "## Inception V3\n"
      ],
      "metadata": {
        "id": "7Xa_XrXkClHv"
      }
    },
    {
      "cell_type": "code",
      "source": [
        "from tensorflow.keras.applications import InceptionV3\n",
        "from tensorflow.keras.preprocessing import image\n",
        "from tensorflow.keras.applications.inception_v3 import preprocess_input, decode_predictions\n",
        "import numpy as np\n",
        "\n",
        "from tensorflow.keras import layers\n",
        "\n",
        "\n",
        "NUM_CLASSES = 2\n",
        "IMG_SIZE = 299\n",
        "size = (IMG_SIZE, IMG_SIZE)\n",
        "\n",
        "\n",
        "inputs1 = layers.Input(shape=(IMG_SIZE, IMG_SIZE, 3))\n",
        "\n",
        "\n",
        "# Using model without transfer learning\n",
        "\n",
        "outputs1 = InceptionV3(include_top=True, weights=None, classes=NUM_CLASSES)(inputs1)\n"
      ],
      "metadata": {
        "id": "R1fHLXmNf4KI"
      },
      "execution_count": 24,
      "outputs": []
    },
    {
      "cell_type": "code",
      "source": [
        "im_size = 299\n",
        "\n",
        "images1 = []\n",
        "labels1 = []\n",
        "\n",
        "for i in dataset_path:\n",
        "    data_path = path + str(i)\n",
        "    filenames = [i for i in os.listdir(data_path) ]\n",
        "\n",
        "    for f in filenames:\n",
        "        img = cv2.imread(data_path + '/' + f)\n",
        "        img = cv2.resize(img, (im_size, im_size))\n",
        "        images1.append(img)\n",
        "        labels1.append(i)"
      ],
      "metadata": {
        "id": "DlZr4Q1vJVPL"
      },
      "execution_count": 25,
      "outputs": []
    },
    {
      "cell_type": "code",
      "source": [
        "images1 = np.array(images1)\n",
        "\n",
        "images1 = images1.astype('float32') / 255.0\n",
        "images1.shape"
      ],
      "metadata": {
        "id": "LZg42lFeJfuB",
        "colab": {
          "base_uri": "https://localhost:8080/"
        },
        "outputId": "a385403d-96d6-44f3-fe97-44be85411da3"
      },
      "execution_count": 26,
      "outputs": [
        {
          "output_type": "execute_result",
          "data": {
            "text/plain": [
              "(1194, 299, 299, 3)"
            ]
          },
          "metadata": {},
          "execution_count": 26
        }
      ]
    },
    {
      "cell_type": "code",
      "source": [
        "from sklearn.utils import shuffle\n",
        "from sklearn.model_selection import train_test_split\n",
        "\n",
        "\n",
        "images1, Y = shuffle(images1, Y, random_state=1)\n",
        "\n",
        "\n",
        "train_x, test_x, train_y, test_y = train_test_split(images1, Y, test_size=0.05, random_state=415)\n",
        "\n",
        "#inpect the shape of the training and testing.\n",
        "print(train_x.shape)\n",
        "print(train_y.shape)\n",
        "print(test_x.shape)\n",
        "print(test_y.shape)"
      ],
      "metadata": {
        "id": "G7ixDd5xKut4",
        "colab": {
          "base_uri": "https://localhost:8080/"
        },
        "outputId": "e8eb0e17-ac6b-4423-f735-c0ce3e6a8469"
      },
      "execution_count": 27,
      "outputs": [
        {
          "output_type": "stream",
          "name": "stdout",
          "text": [
            "(1134, 299, 299, 3)\n",
            "(1134, 2)\n",
            "(60, 299, 299, 3)\n",
            "(60, 2)\n"
          ]
        }
      ]
    },
    {
      "cell_type": "code",
      "source": [
        "from keras import optimizers, losses, activations, models\n",
        "model1 = tf.keras.Model(inputs1, outputs1)\n",
        "\n",
        "model1.compile(optimizer=optimizers.SGD(lr=1e-4,\n",
        "                                       momentum=0.9), loss=\"categorical_crossentropy\", metrics=[\"accuracy\",\"F1Score\"] )\n",
        "\n",
        "model1.summary()\n",
        "\n",
        "hist1 = model1.fit(train_x, train_y, epochs=5, verbose=2)"
      ],
      "metadata": {
        "id": "OPWOsOf2Hwgy",
        "colab": {
          "base_uri": "https://localhost:8080/"
        },
        "outputId": "ecfe8ef6-cf9b-404a-a0b6-6c13e1a5778e"
      },
      "execution_count": 28,
      "outputs": [
        {
          "output_type": "stream",
          "name": "stderr",
          "text": [
            "WARNING:absl:`lr` is deprecated in Keras optimizer, please use `learning_rate` or use the legacy optimizer, e.g.,tf.keras.optimizers.legacy.SGD.\n"
          ]
        },
        {
          "output_type": "stream",
          "name": "stdout",
          "text": [
            "Model: \"model_1\"\n",
            "_________________________________________________________________\n",
            " Layer (type)                Output Shape              Param #   \n",
            "=================================================================\n",
            " input_7 (InputLayer)        [(None, 299, 299, 3)]     0         \n",
            "                                                                 \n",
            " inception_v3 (Functional)   (None, 2)                 21806882  \n",
            "                                                                 \n",
            "=================================================================\n",
            "Total params: 21806882 (83.19 MB)\n",
            "Trainable params: 21772450 (83.06 MB)\n",
            "Non-trainable params: 34432 (134.50 KB)\n",
            "_________________________________________________________________\n",
            "Epoch 1/5\n",
            "36/36 - 46s - loss: 0.3418 - accuracy: 0.8748 - f1_score: 0.5801 - 46s/epoch - 1s/step\n",
            "Epoch 2/5\n",
            "36/36 - 16s - loss: 0.3118 - accuracy: 0.8818 - f1_score: 0.6655 - 16s/epoch - 441ms/step\n",
            "Epoch 3/5\n",
            "36/36 - 15s - loss: 0.2085 - accuracy: 0.8889 - f1_score: 0.6904 - 15s/epoch - 430ms/step\n",
            "Epoch 4/5\n",
            "36/36 - 15s - loss: 0.1673 - accuracy: 0.9277 - f1_score: 0.8207 - 15s/epoch - 427ms/step\n",
            "Epoch 5/5\n",
            "36/36 - 15s - loss: 0.1633 - accuracy: 0.9171 - f1_score: 0.7902 - 15s/epoch - 427ms/step\n"
          ]
        }
      ]
    },
    {
      "cell_type": "code",
      "source": [
        "preds = model1.evaluate(test_x, test_y)\n",
        "print (\"Loss = \" + str(preds[0]))\n",
        "print (\"Test Accuracy = \" + str(preds[1]))"
      ],
      "metadata": {
        "id": "U8FrwJUpO4MC",
        "colab": {
          "base_uri": "https://localhost:8080/"
        },
        "outputId": "4d1a8399-71c4-4865-967a-5d960c3cd37f"
      },
      "execution_count": 29,
      "outputs": [
        {
          "output_type": "stream",
          "name": "stdout",
          "text": [
            "2/2 [==============================] - 4s 2s/step - loss: 0.3243 - accuracy: 0.9000 - f1_score: 0.8330\n",
            "Loss = 0.3242635726928711\n",
            "Test Accuracy = 0.8999999761581421\n"
          ]
        }
      ]
    },
    {
      "cell_type": "code",
      "source": [
        "hist1.history\n"
      ],
      "metadata": {
        "id": "fN62_KRPtMd9",
        "colab": {
          "base_uri": "https://localhost:8080/"
        },
        "outputId": "cda9eab0-aa3d-4ee7-aa4e-67e960d1e4c8"
      },
      "execution_count": 30,
      "outputs": [
        {
          "output_type": "execute_result",
          "data": {
            "text/plain": [
              "{'loss': [0.3417806327342987,\n",
              "  0.311807781457901,\n",
              "  0.2085142582654953,\n",
              "  0.16732613742351532,\n",
              "  0.16329210996627808],\n",
              " 'accuracy': [0.8747795224189758,\n",
              "  0.8818342089653015,\n",
              "  0.8888888955116272,\n",
              "  0.9276896119117737,\n",
              "  0.9171075820922852],\n",
              " 'f1_score': [array([0.9318618 , 0.22826087], dtype=float32),\n",
              "  array([0.93450636, 0.39639643], dtype=float32),\n",
              "  array([0.93829584, 0.44247788], dtype=float32),\n",
              "  array([0.959204  , 0.68217057], dtype=float32),\n",
              "  array([0.953373 , 0.6269841], dtype=float32)]}"
            ]
          },
          "metadata": {},
          "execution_count": 30
        }
      ]
    },
    {
      "cell_type": "code",
      "source": [
        "import matplotlib.pyplot as plt\n",
        "\n",
        "\n",
        "def plot_hist(hist):\n",
        "\n",
        "    plt.figure(1)\n",
        "    plt.plot(hist.history[\"accuracy\"])\n",
        "    plt.title(\"model accuracy\")\n",
        "    plt.ylabel(\"accuracy\")\n",
        "    plt.xlabel(\"epoch\")\n",
        "    plt.legend([\"train\", \"validation\"], loc=\"upper left\")\n",
        "\n",
        "    plt.figure(2)\n",
        "    plt.plot(hist.history[\"f1_score\"])\n",
        "\n",
        "\n",
        "\n",
        "    plt.show()\n",
        "\n",
        "\n",
        "plot_hist(hist1)"
      ],
      "metadata": {
        "id": "mqNtitVmQYy_",
        "colab": {
          "base_uri": "https://localhost:8080/",
          "height": 885
        },
        "outputId": "acab9a61-7d4e-4f32-b0bf-89e4d5bfd4d2"
      },
      "execution_count": 32,
      "outputs": [
        {
          "output_type": "display_data",
          "data": {
            "text/plain": [
              "<Figure size 640x480 with 1 Axes>"
            ],
            "image/png": "[encoded data removed]"
          },
          "metadata": {}
        },
        {
          "output_type": "display_data",
          "data": {
            "text/plain": [
              "<Figure size 640x480 with 1 Axes>"
            ],
            "image/png": "[encoded data removed]"
          },
          "metadata": {}
        }
      ]
    },
    {
      "cell_type": "code",
      "source": [],
      "metadata": {
        "id": "8I6r1UDUtSnq"
      },
      "execution_count": null,
      "outputs": []
    }
  ]
}